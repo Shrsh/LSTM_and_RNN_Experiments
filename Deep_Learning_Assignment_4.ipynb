{
  "nbformat": 4,
  "nbformat_minor": 0,
  "metadata": {
    "colab": {
      "name": "Deep_Learning_Assignment_4.ipynb",
      "provenance": [],
      "collapsed_sections": [],
      "authorship_tag": "ABX9TyPhjsSEIzk6tcjdM9e5kWVc",
      "include_colab_link": true
    },
    "kernelspec": {
      "name": "python3",
      "display_name": "Python 3"
    },
    "accelerator": "GPU"
  },
  "cells": [
    {
      "cell_type": "markdown",
      "metadata": {
        "id": "view-in-github",
        "colab_type": "text"
      },
      "source": [
        "<a href=\"https://colab.research.google.com/github/Shrsh/LSTM_and_RNN_Experiments/blob/master/Deep_Learning_Assignment_4.ipynb\" target=\"_parent\"><img src=\"https://colab.research.google.com/assets/colab-badge.svg\" alt=\"Open In Colab\"/></a>"
      ]
    },
    {
      "cell_type": "code",
      "metadata": {
        "id": "z3uv3i49ePfo",
        "colab_type": "code",
        "outputId": "51c2c7e6-22db-406c-f658-79aeb382d47a",
        "colab": {
          "base_uri": "https://localhost:8080/",
          "height": 34
        }
      },
      "source": [
        "import math\n",
        "import random\n",
        "import numpy as np\n",
        "import matplotlib\n",
        "import matplotlib.pyplot as plt\n",
        "from collections import namedtuple\n",
        "from itertools import count\n",
        "from PIL import Image\n",
        "from sklearn.metrics import r2_score\n",
        "import sys\n",
        "\n",
        "import tensorflow as tf\n",
        "gpus = tf.config.experimental.list_physical_devices('GPU')\n",
        "if gpus:\n",
        "  try:\n",
        "    # Currently, memory growth needs to be the same across GPUs\n",
        "    for gpu in gpus:\n",
        "      tf.config.experimental.set_memory_growth(gpu, True)\n",
        "    logical_gpus = tf.config.experimental.list_logical_devices('GPU')\n",
        "    print(len(gpus), \"Physical GPUs,\", len(logical_gpus), \"Logical GPUs\")\n",
        "  except RuntimeError as e:\n",
        "    # Memory growth must be set before GPUs have been initialized\n",
        "    print(e)\n",
        "import random\n",
        "from tensorflow.keras.layers import Dense, Flatten, Conv2D\n",
        "from tensorflow.keras import Model"
      ],
      "execution_count": 1,
      "outputs": [
        {
          "output_type": "stream",
          "text": [
            "1 Physical GPUs, 1 Logical GPUs\n"
          ],
          "name": "stdout"
        }
      ]
    },
    {
      "cell_type": "markdown",
      "metadata": {
        "id": "LgS1-n9bfG3C",
        "colab_type": "text"
      },
      "source": [
        "#RNN for Autoregressive Model\n",
        "\n",
        "Generate samples of an Auto Regressive model\n",
        "of the form\n",
        "X(t) = $a_{1}$X(t − 1) + $a_2$X(t − 2) + $a_3$X(t − 3) + U(t)"
      ]
    },
    {
      "cell_type": "code",
      "metadata": {
        "id": "6tHvbK5rfdED",
        "colab_type": "code",
        "outputId": "d337ea28-fc4f-467b-dea0-c0512b87930b",
        "colab": {
          "base_uri": "https://localhost:8080/",
          "height": 265
        }
      },
      "source": [
        "def moving_average(a, n=50) :\n",
        "    ret = np.cumsum(a, dtype=float)\n",
        "    ret[n:] = ret[n:] - ret[:-n]\n",
        "    return ret[n - 1:] / n\n",
        "\n",
        "def convertToMatrix(data, step):\n",
        "  X, Y =[], []\n",
        "  for i in range(len(data)-step):\n",
        "    d=i+step  \n",
        "    X.append(data[i:d,])\n",
        "    Y.append(data[d,])\n",
        "  return np.array(X), np.array(Y)\n",
        "\n",
        "def prepare_for_RNN(X,step=3):\n",
        "  #preparing data for RNN, arranging data in step \n",
        "\n",
        "  train = np.array(X[0:1999])\n",
        "  test = np.array(X[2000:3999])\n",
        "\n",
        "  # convert into dataset matrix\n",
        "  # add step elements into train and test\n",
        "  test = np.append(test,np.repeat(test[-1,],step))\n",
        "  train = np.append(train,np.repeat(train[-1,],step))\n",
        "  trainX,trainY =convertToMatrix(train,step)\n",
        "  testX,testY =convertToMatrix(test,step)\n",
        "\n",
        "  trainX = np.reshape(trainX, (trainX.shape[0], 1, trainX.shape[1]))\n",
        "  testX = np.reshape(testX, (testX.shape[0], 1, testX.shape[1]))\n",
        "  return trainX,trainY,testX,testY\n",
        "\n",
        "\n",
        "\n",
        "X = []\n",
        "# auto regressive sequence parameters\n",
        "a1 = 0.6\n",
        "a2 = -0.5\n",
        "a3 = -0.2\n",
        "#defining initial values\n",
        "X.append(1)\n",
        "X.append(0.1)\n",
        "X.append(0.3)\n",
        "step = 15\n",
        "\n",
        "for i in range(4000):\n",
        "    X.append(a1*X[-1] + a2*X[-2] + a3*X[-3] + random.uniform(0, 0.1))\n",
        "sequence_data = np.array(X)\n",
        "#Approximate plotting the moving averages of the sequences\n",
        "plt.plot(moving_average(sequence_data))\n",
        "plt.show()\n",
        "trainX,trainY,testX,testY = prepare_for_RNN(X,step=5)"
      ],
      "execution_count": 2,
      "outputs": [
        {
          "output_type": "display_data",
          "data": {
            "image/png": "[encoded data removed]",
            "text/plain": [
              "<Figure size 432x288 with 1 Axes>"
            ]
          },
          "metadata": {
            "tags": [],
            "needs_background": "light"
          }
        }
      ]
    },
    {
      "cell_type": "markdown",
      "metadata": {
        "id": "3WxoGw4Knd_x",
        "colab_type": "text"
      },
      "source": [
        "Model for RNN - 1 Hidden Layer"
      ]
    },
    {
      "cell_type": "code",
      "metadata": {
        "id": "ACpMTDlUnhuL",
        "colab_type": "code",
        "outputId": "de751376-eb3b-466c-8d30-a79391d7571d",
        "colab": {
          "base_uri": "https://localhost:8080/",
          "height": 350
        }
      },
      "source": [
        "model = tf.keras.Sequential()\n",
        "model.add(tf.keras.layers.SimpleRNN(\n",
        "    step*5, activation='tanh',return_sequences=True))\n",
        "model.add(tf.keras.layers.Dense(1))\n",
        "\n",
        "model.compile(optimizer='adam',\n",
        "              loss='mse',\n",
        "              metrics=['mse','mae'])\n",
        "\n",
        "history_track = model.fit(trainX, trainY, epochs=60,batch_size=128, verbose=0)\n",
        "prediction= model.predict(testX)\n",
        "metrics = model.evaluate(testX, testY, verbose=2)\n",
        "print(prediction.shape)\n",
        "print(\"R-sqaure : \" + str(r2_score(testY,prediction.flatten())))\n",
        "print(\"MSE : \" + str(metrics[1]))\n",
        "print(\"MAE : \" + str(metrics[2]))\n",
        "\n",
        "plt.plot(history_track.history['loss'])\n",
        "plt.show() "
      ],
      "execution_count": 3,
      "outputs": [
        {
          "output_type": "stream",
          "text": [
            "63/63 - 0s - loss: 8.1884e-04 - mse: 8.1884e-04 - mae: 0.0247\n",
            "(1999, 1, 1)\n",
            "R-sqaure : 0.5233949170099557\n",
            "MSE : 0.0008188378415070474\n",
            "MAE : 0.02465052530169487\n"
          ],
          "name": "stdout"
        },
        {
          "output_type": "display_data",
          "data": {
            "image/png": "[encoded data removed]",
            "text/plain": [
              "<Figure size 432x288 with 1 Axes>"
            ]
          },
          "metadata": {
            "tags": [],
            "needs_background": "light"
          }
        }
      ]
    },
    {
      "cell_type": "markdown",
      "metadata": {
        "id": "1aRoJR1KFO6v",
        "colab_type": "text"
      },
      "source": [
        "RNN with 2 Hidden Layers \n"
      ]
    },
    {
      "cell_type": "code",
      "metadata": {
        "id": "NrhBrFM-Fb2Z",
        "colab_type": "code",
        "outputId": "3217ff0b-7a1f-4ed4-8ea8-dad700f3722a",
        "colab": {
          "base_uri": "https://localhost:8080/",
          "height": 337
        }
      },
      "source": [
        "model = tf.keras.Sequential()\n",
        "model.add(tf.keras.layers.SimpleRNN(\n",
        "    step*5, activation='tanh',return_sequences=True))\n",
        "model.add(tf.keras.layers.SimpleRNN(\n",
        "    step*5, activation='tanh',return_sequences=True))\n",
        "model.add(tf.keras.layers.Dense(1))\n",
        "\n",
        "model.compile(optimizer='adam',\n",
        "              loss='mse',\n",
        "              metrics=['mse','mae'])\n",
        "\n",
        "history_track = model.fit(trainX, trainY, epochs=20,batch_size=128, verbose=0)\n",
        "prediction= model.predict(testX)\n",
        "metrics = model.evaluate(testX, testY, verbose=2)\n",
        "print(\"R-sqaure : \" + str(r2_score(testY,prediction.flatten())))\n",
        "print(\"MSE : \" + str(metrics[1]))\n",
        "print(\"MAE : \" + str(metrics[2]))\n",
        "\n",
        "plt.plot(history_track.history['loss'])\n",
        "plt.show() "
      ],
      "execution_count": 4,
      "outputs": [
        {
          "output_type": "stream",
          "text": [
            "63/63 - 0s - loss: 8.2291e-04 - mse: 8.2291e-04 - mae: 0.0247\n",
            "R-sqaure : 0.5210273869652077\n",
            "MSE : 0.0008229051600210369\n",
            "MAE : 0.024693388491868973\n"
          ],
          "name": "stdout"
        },
        {
          "output_type": "display_data",
          "data": {
            "image/png": "[encoded data removed]",
            "text/plain": [
              "<Figure size 432x288 with 1 Axes>"
            ]
          },
          "metadata": {
            "tags": [],
            "needs_background": "light"
          }
        }
      ]
    },
    {
      "cell_type": "markdown",
      "metadata": {
        "id": "tKkxjmWhPANM",
        "colab_type": "text"
      },
      "source": [
        "RNN with 3 hidden layers"
      ]
    },
    {
      "cell_type": "code",
      "metadata": {
        "id": "f0qD6YY9PCrQ",
        "colab_type": "code",
        "outputId": "cb624ecc-f81e-41a3-c64f-7b7e84d95a41",
        "colab": {
          "base_uri": "https://localhost:8080/",
          "height": 333
        }
      },
      "source": [
        "model = tf.keras.Sequential()\n",
        "model.add(tf.keras.layers.SimpleRNN(\n",
        "    step*5, activation='tanh',return_sequences=True))\n",
        "model.add(tf.keras.layers.SimpleRNN(\n",
        "    step*5, activation='tanh',return_sequences=True))\n",
        "model.add(tf.keras.layers.SimpleRNN(\n",
        "    step*5, activation='tanh',return_sequences=True))\n",
        "model.add(tf.keras.layers.Dense(1))\n",
        "\n",
        "model.compile(optimizer='adam',\n",
        "              loss='mse',\n",
        "              metrics=['mse','mae'])\n",
        "\n",
        "history_track = model.fit(trainX, trainY, epochs=100,batch_size=128, verbose=0)\n",
        "prediction= model.predict(testX)\n",
        "metrics = model.evaluate(testX, testY, verbose=2)\n",
        "print(\"R-sqaure : \" + str(r2_score(testY,prediction.flatten())))\n",
        "print(\"MSE : \" + str(metrics[1]))\n",
        "print(\"MAE : \" + str(metrics[2]))\n",
        "plt.plot(history_track.history['loss'])\n",
        "plt.show() "
      ],
      "execution_count": 5,
      "outputs": [
        {
          "output_type": "stream",
          "text": [
            "63/63 - 0s - loss: 8.2793e-04 - mse: 8.2793e-04 - mae: 0.0248\n",
            "R-sqaure : 0.5181017227121083\n",
            "MSE : 0.0008279318572022021\n",
            "MAE : 0.02477964013814926\n"
          ],
          "name": "stdout"
        },
        {
          "output_type": "display_data",
          "data": {
            "image/png": "[encoded data removed]",
            "text/plain": [
              "<Figure size 432x288 with 1 Axes>"
            ]
          },
          "metadata": {
            "tags": [],
            "needs_background": "light"
          }
        }
      ]
    },
    {
      "cell_type": "markdown",
      "metadata": {
        "id": "tzMFnH_4QsBG",
        "colab_type": "text"
      },
      "source": [
        "# RNN For Moving Average Models"
      ]
    },
    {
      "cell_type": "markdown",
      "metadata": {
        "id": "LD2GDMtVRBX6",
        "colab_type": "text"
      },
      "source": [
        "Dataset Creation"
      ]
    },
    {
      "cell_type": "code",
      "metadata": {
        "id": "TKB0iCksQs76",
        "colab_type": "code",
        "outputId": "1e80eb7f-313b-422d-a431-5aac9475b57c",
        "colab": {
          "base_uri": "https://localhost:8080/",
          "height": 265
        }
      },
      "source": [
        "#Moving Average Model Parameters\n",
        "a1 = 5\n",
        "a2 = a3 = a4 = a5 = -1\n",
        "\n",
        "values_from_uniform_distribution  = [random.uniform(0,1) for i in range(4000) ]\n",
        "data = np.convolve(np.array(values_from_uniform_distribution), [a1,a2,a3,a4,a5], mode='valid')\n",
        "plt.plot(data)\n",
        "plt.show()\n",
        "step = 15\n",
        "trainX,trainY,testX,testY = prepare_for_RNN(data,step)"
      ],
      "execution_count": 6,
      "outputs": [
        {
          "output_type": "display_data",
          "data": {
            "image/png": "[encoded data removed]",
            "text/plain": [
              "<Figure size 432x288 with 1 Axes>"
            ]
          },
          "metadata": {
            "tags": [],
            "needs_background": "light"
          }
        }
      ]
    },
    {
      "cell_type": "markdown",
      "metadata": {
        "id": "h5JlZgrtTLUH",
        "colab_type": "text"
      },
      "source": [
        "Model Training and Prediction\n",
        "\n",
        "RNN with 1 Hidden Layer"
      ]
    },
    {
      "cell_type": "code",
      "metadata": {
        "id": "OS7rL1BzRjrV",
        "colab_type": "code",
        "outputId": "97e69620-0125-424d-b337-14278605c93f",
        "colab": {
          "base_uri": "https://localhost:8080/",
          "height": 333
        }
      },
      "source": [
        "model = tf.keras.Sequential()\n",
        "model.add(tf.keras.layers.SimpleRNN(\n",
        "    step*10, activation='tanh',return_sequences=True))\n",
        "model.add(tf.keras.layers.Dense(1))\n",
        "\n",
        "model.compile(optimizer='adam',\n",
        "              loss='mse',\n",
        "              metrics=['mse','mae'])\n",
        "\n",
        "history_track = model.fit(trainX, trainY, epochs=60,batch_size=128, verbose=0)\n",
        "prediction= model.predict(testX)\n",
        "metrics = model.evaluate(testX, testY, verbose=2)\n",
        "print(\"R-sqaure : \" + str(r2_score(testY,prediction.flatten())))\n",
        "print(\"MSE : \" + str(metrics[1]))\n",
        "print(\"MAE : \" + str(metrics[2]))\n",
        "\n",
        "plt.plot(history_track.history['loss'])\n",
        "plt.show() "
      ],
      "execution_count": 7,
      "outputs": [
        {
          "output_type": "stream",
          "text": [
            "63/63 - 0s - loss: 2.3098 - mse: 2.3098 - mae: 1.2835\n",
            "R-sqaure : 0.05390894066925722\n",
            "MSE : 2.3097987174987793\n",
            "MAE : 1.2835346460342407\n"
          ],
          "name": "stdout"
        },
        {
          "output_type": "display_data",
          "data": {
            "image/png": "[encoded data removed]",
            "text/plain": [
              "<Figure size 432x288 with 1 Axes>"
            ]
          },
          "metadata": {
            "tags": [],
            "needs_background": "light"
          }
        }
      ]
    },
    {
      "cell_type": "markdown",
      "metadata": {
        "id": "Ghy06A3TTX7J",
        "colab_type": "text"
      },
      "source": [
        "RNN with 2 hidden layers"
      ]
    },
    {
      "cell_type": "code",
      "metadata": {
        "id": "Uth6l9TOTPXk",
        "colab_type": "code",
        "outputId": "cd3612c4-2630-4bed-b0f7-798d1a5e7102",
        "colab": {
          "base_uri": "https://localhost:8080/",
          "height": 333
        }
      },
      "source": [
        "model = tf.keras.Sequential()\n",
        "model.add(tf.keras.layers.SimpleRNN(\n",
        "    step*10, activation='tanh',return_sequences=True))\n",
        "model.add(tf.keras.layers.SimpleRNN(\n",
        "    step*10, activation='tanh',return_sequences=True))\n",
        "model.add(tf.keras.layers.Dense(1))\n",
        "\n",
        "model.compile(optimizer='adam',\n",
        "              loss='mse',\n",
        "              metrics=['mse','mae'])\n",
        "\n",
        "history_track = model.fit(trainX, trainY, epochs=60,batch_size=128, verbose=0)\n",
        "prediction= model.predict(testX)\n",
        "metrics = model.evaluate(testX, testY, verbose=2)\n",
        "print(\"R-sqaure : \" + str(r2_score(testY,prediction.flatten())))\n",
        "print(\"MSE : \" + str(metrics[1]))\n",
        "print(\"MAE : \" + str(metrics[2]))\n",
        "\n",
        "plt.plot(history_track.history['loss'])\n",
        "plt.show() "
      ],
      "execution_count": 8,
      "outputs": [
        {
          "output_type": "stream",
          "text": [
            "63/63 - 0s - loss: 2.8762 - mse: 2.8762 - mae: 1.4075\n",
            "R-sqaure : -0.1781003897885669\n",
            "MSE : 2.8762295246124268\n",
            "MAE : 1.4074974060058594\n"
          ],
          "name": "stdout"
        },
        {
          "output_type": "display_data",
          "data": {
            "image/png": "[encoded data removed]",
            "text/plain": [
              "<Figure size 432x288 with 1 Axes>"
            ]
          },
          "metadata": {
            "tags": [],
            "needs_background": "light"
          }
        }
      ]
    },
    {
      "cell_type": "markdown",
      "metadata": {
        "id": "6vihK40-TgFP",
        "colab_type": "text"
      },
      "source": [
        "RNN with 3 hidden layers"
      ]
    },
    {
      "cell_type": "code",
      "metadata": {
        "id": "7IC2OH00Tc9e",
        "colab_type": "code",
        "outputId": "4fc9198c-f2c3-492b-f06d-7f08c38f1861",
        "colab": {
          "base_uri": "https://localhost:8080/",
          "height": 333
        }
      },
      "source": [
        "model = tf.keras.Sequential()\n",
        "model.add(tf.keras.layers.SimpleRNN(\n",
        "    step, activation='tanh',return_sequences=True))\n",
        "model.add(tf.keras.layers.SimpleRNN(\n",
        "    step, activation='tanh',return_sequences=True))\n",
        "model.add(tf.keras.layers.SimpleRNN(\n",
        "    step, activation='tanh',return_sequences=True))\n",
        "model.add(tf.keras.layers.Dense(1))\n",
        "\n",
        "model.compile(optimizer='adam',\n",
        "              loss='mse',\n",
        "              metrics=['mse','mae'])\n",
        "\n",
        "history_track = model.fit(trainX, trainY, epochs=20,batch_size=128, verbose=0)\n",
        "prediction= model.predict(testX)\n",
        "metrics = model.evaluate(testX, testY, verbose=2)\n",
        "print(\"R-sqaure : \" + str(r2_score(testY,prediction.flatten())))\n",
        "\n",
        "print(\"MSE : \" + str(metrics[1]))\n",
        "print(\"MAE : \" + str(metrics[2]))\n",
        "\n",
        "plt.plot(history_track.history['loss'])\n",
        "plt.show() "
      ],
      "execution_count": 9,
      "outputs": [
        {
          "output_type": "stream",
          "text": [
            "63/63 - 0s - loss: 2.3029 - mse: 2.3029 - mae: 1.2873\n",
            "R-sqaure : 0.056750834397202965\n",
            "MSE : 2.3028602600097656\n",
            "MAE : 1.2873172760009766\n"
          ],
          "name": "stdout"
        },
        {
          "output_type": "display_data",
          "data": {
            "image/png": "[encoded data removed]",
            "text/plain": [
              "<Figure size 432x288 with 1 Axes>"
            ]
          },
          "metadata": {
            "tags": [],
            "needs_background": "light"
          }
        }
      ]
    },
    {
      "cell_type": "markdown",
      "metadata": {
        "id": "fkZQX0pvcmdB",
        "colab_type": "text"
      },
      "source": [
        "# Detecting Temporal Order. \n",
        "\n",
        "Creating dataset "
      ]
    },
    {
      "cell_type": "code",
      "metadata": {
        "id": "-bKAN6P6Tlq_",
        "colab_type": "code",
        "outputId": "7641b1a8-6208-4015-ffd4-6843f288d038",
        "colab": {
          "base_uri": "https://localhost:8080/",
          "height": 139
        }
      },
      "source": [
        "def create_dataset():\n",
        "  seq = []\n",
        "  labels = []\n",
        "  for i in range(4000):\n",
        "    seq_len = random.randint(100, 110)\n",
        "    t1 = random.randint(10,20)\n",
        "    t2 = random.randint(33,43)\n",
        "    t3 = random.randint(66,76)\n",
        "    sequence = \"\"\n",
        "    order = \"\"\n",
        "    label = \"\"\n",
        "    for i in range(seq_len):\n",
        "      if i == 0:\n",
        "        sequence+=\"E\"\n",
        "      elif i == seq_len - 1:\n",
        "        sequence+=\"B\"\n",
        "      elif i == t1 or i == t2 or i == t3:\n",
        "        temp = random.choice(['X','Y'])\n",
        "        order+=temp\n",
        "        sequence+=temp\n",
        "      else:\n",
        "        sequence+=random.choice(['a','b','c','d'])\n",
        "    if order == \"XXX\":\n",
        "          label+=\"Q\"\n",
        "    if order == \"XXY\":\n",
        "        label+=\"R\"\n",
        "    if order == \"XYX\":\n",
        "        label+=\"S\"\n",
        "    if order == \"XYY\":\n",
        "        label+=\"U\"\n",
        "    if order == \"YXX\":\n",
        "        label+=\"V\"\n",
        "    if order == \"YXY\":\n",
        "        label+=\"A\"\n",
        "    if order == \"YYX\":\n",
        "        label+=\"B\"\n",
        "    if order == \"YYY\":\n",
        "        label+=\"C\"\n",
        "    seq.append(np.array(list(sequence)))\n",
        "    labels.append(list(label))\n",
        "  return np.array(seq), np.array(labels)\n",
        "\n",
        "seq, labels = create_dataset()\n",
        "#one hot encoding\n",
        "def encoding_sequence(seq):\n",
        "  sequence = []\n",
        "  for x in seq:\n",
        "    y = []\n",
        "    for i in range(len(x)):    \n",
        "      if x[i] == \"E\" or x[i] == \"B\":\n",
        "        y.append(int(8))\n",
        "      elif x[i] == 'X':\n",
        "        y.append(int(9))\n",
        "      elif x[i] == 'Y':\n",
        "        y.append(int(10))\n",
        "      else:\n",
        "        y.append(int(11))\n",
        "    sequence.append(y)\n",
        "  return sequence\n",
        "\n",
        "seq = encoding_sequence(seq)\n",
        "padded_inputs = tf.keras.preprocessing.sequence.pad_sequences(seq,\n",
        "                                                              padding='post')\n",
        "#one-hot encoding\n",
        "from keras.utils import to_categorical\n",
        "encoded_data = [to_categorical(i) for i in padded_inputs]\n",
        "encoded_data = np.reshape(np.array(encoded_data),(4000,110,12))\n",
        "print(encoded_data.shape)\n",
        "# encoded_data = np.reshape(encoded_data,(4000,5,110))\n",
        "#label encoder\n",
        "from sklearn import preprocessing\n",
        "le = preprocessing.LabelEncoder()\n",
        "le.fit(labels)\n",
        "encoded_labels = le.transform(labels)\n",
        "depth = 8\n",
        "encoded_labels = tf.one_hot(encoded_labels, depth,\n",
        "           on_value=1.0, off_value=0.0,\n",
        "           axis=-1)\n",
        "encoded_labels = np.reshape(encoded_labels, (4000,8))\n",
        "print(encoded_labels.shape)"
      ],
      "execution_count": 23,
      "outputs": [
        {
          "output_type": "stream",
          "text": [
            "(4000, 110, 12)\n",
            "(4000, 8)\n"
          ],
          "name": "stdout"
        },
        {
          "output_type": "stream",
          "text": [
            "/usr/local/lib/python3.6/dist-packages/sklearn/preprocessing/_label.py:235: DataConversionWarning: A column-vector y was passed when a 1d array was expected. Please change the shape of y to (n_samples, ), for example using ravel().\n",
            "  y = column_or_1d(y, warn=True)\n",
            "/usr/local/lib/python3.6/dist-packages/sklearn/preprocessing/_label.py:268: DataConversionWarning: A column-vector y was passed when a 1d array was expected. Please change the shape of y to (n_samples, ), for example using ravel().\n",
            "  y = column_or_1d(y, warn=True)\n"
          ],
          "name": "stderr"
        }
      ]
    },
    {
      "cell_type": "markdown",
      "metadata": {
        "id": "mGEMl17ZVW3P",
        "colab_type": "text"
      },
      "source": [
        "LSTM Model "
      ]
    },
    {
      "cell_type": "code",
      "metadata": {
        "id": "AjU4Z0qNjnBo",
        "colab_type": "code",
        "colab": {}
      },
      "source": [
        "#test train split \n",
        "# trainX = encoded_data[0:3000]\n",
        "# testX = encoded_data[3000:3999]\n",
        "# trainY = encoded_labels[0:3000]\n",
        "# testY = encoded_labels[3000:3999]\n",
        "\n",
        "model = tf.keras.Sequential([\n",
        "    tf.keras.layers.LSTM(2,return_sequences=True),\n",
        "    tf.keras.layers.LSTM(4,return_sequences=True),\n",
        "    tf.keras.layers.LSTM(8,return_sequences=False),\n",
        "    tf.keras.layers.Dense(8, activation='softmax')])\n",
        "\n",
        "# model.compile(loss='categorical_crossentropy',optimizer=tf.keras.optimizers.Adam(\n",
        "    # learning_rate=0.1, beta_1=0.9, beta_2=0.999, epsilon=1e-07), metrics=['accuracy'])\n",
        "# model.fit(trainX,trainY, epochs=50, batch_size=1,verbose=1)\n",
        "\n",
        "#testing and accuracy \n",
        "# predictions = model.predict(testX)\n",
        "# from numpy import linalg as LA\n",
        "# def accuracy(predictions, labels):\n",
        "#     count = 0 \n",
        "#     diff = predictions - labels\n",
        "#     for i in range(predictions.shape[0]):\n",
        "#       if LA.norm(diff[i,:],1) < 0.3:\n",
        "#         count+=1\n",
        "#     return count/predictions.shape[0]\n",
        "# print(accuracy(predictions,testY))\n"
      ],
      "execution_count": 0,
      "outputs": []
    },
    {
      "cell_type": "code",
      "metadata": {
        "id": "g7fEf7s13Qin",
        "colab_type": "code",
        "outputId": "81d79907-86f0-4ec6-cd01-beec5b2a5f36",
        "colab": {
          "base_uri": "https://localhost:8080/",
          "height": 119
        }
      },
      "source": [
        "from numpy import linalg as LA\n",
        "\n",
        "train_dataset = tf.data.Dataset.from_tensor_slices((encoded_data, encoded_labels))\n",
        "BATCH_SIZE = 64\n",
        "SHUFFLE_BUFFER_SIZE = 100\n",
        "\n",
        "train_dataset = train_dataset.shuffle(SHUFFLE_BUFFER_SIZE).batch(BATCH_SIZE)\n",
        "\n",
        "def loss(model, x, y, training):\n",
        "  y_ = model(x, training=training)\n",
        "  return loss_object(y_true=y, y_pred=y_)\n",
        "\n",
        "def grad(model, inputs, targets):\n",
        "  with tf.GradientTape() as tape:\n",
        "    loss_value = loss(model, inputs, targets, training=True)\n",
        "  return loss_value, tape.gradient(loss_value, model.trainable_variables)\n",
        "\n",
        "loss_object = tf.keras.losses.CategoricalCrossentropy(from_logits=True)\n",
        "optimizer = tf.keras.optimizers.SGD(learning_rate=0.1,momentum=0.2)\n",
        "\n",
        "# Keep results for plotting\n",
        "train_loss_results = []\n",
        "train_accuracy_results = []\n",
        "av_training_error = 0\n",
        "num_epochs = 0\n",
        "\n",
        "def create_batch(n,features,label):\n",
        "  trainX=[]\n",
        "  trainY=[]\n",
        "  randomlist = random.sample(range(0, 3999), n)\n",
        "  for i in range(len(randomlist)):\n",
        "    trainX.append(features[i])\n",
        "    trainY.append(label[i])\n",
        "  trainX = np.reshape(np.array(trainX),(len(randomlist),12,110))\n",
        "  trainY = np.reshape(np.array(trainY),(len(randomlist),8))\n",
        "  return trainX, trainY\n",
        "\n",
        "while True:\n",
        "  num_epochs+=1\n",
        "  train_set =  train_dataset.take(1)\n",
        "  epoch_loss_avg = tf.keras.metrics.Mean()\n",
        "  # Training loop - using batches of 1\n",
        "  # i = random.randint(0, 3999)\n",
        "  # # Optimize the model\n",
        "  # x = np.reshape(encoded_data[i],(1,5,110))\n",
        "  # y = np.reshape(encoded_labels[i], (1,8))\n",
        "  x,y = create_batch(1,encoded_data,encoded_labels)\n",
        "  loss_value, grads = grad(model,x, y)\n",
        "  optimizer.apply_gradients(zip(grads, model.trainable_variables))\n",
        "  predictions = model(x)\n",
        "  print(predictions)\n",
        "  print(y)\n",
        "  training_error = LA.norm(predictions - y, 1)\n",
        "  av_training_error+= ( training_error - av_training_error)/num_epochs\n",
        "  # Track progress\n",
        "  epoch_loss_avg.update_state(loss_value)\n",
        "  # End epoch\n",
        "  train_loss_results.append(epoch_loss_avg.result())\n",
        "\n",
        "  if num_epochs % 50 == 0:\n",
        "    print(\"Epoch {:03d}: Loss: {:.3f}, Average Training Error: {:.3}, Training error: {:.3f} \".format(num_epochs,\n",
        "                                                                epoch_loss_avg.result(),av_training_error,training_error),flush=\"True\")\n",
        "    sys.stdout.flush()\n",
        "  if av_training_error < 0.1:\n",
        "    print(\"Training Ends\")\n",
        "    print(\"Epoch {:03d}: Loss: {:.3f}, Average Training Error: {:.3}, Training error: {:.3f} \".format(num_epochs,\n",
        "                                                                epoch_loss_avg.result(),av_training_error,training_error),flush=\"True\")\n",
        "    break"
      ],
      "execution_count": 30,
      "outputs": [
        {
          "output_type": "stream",
          "text": [
            "tf.Tensor(\n",
            "[[2.3817708e-04 3.6352524e-04 4.4894003e-04 3.5944770e-04 2.2519873e-04\n",
            "  6.6207006e-04 1.9830342e-04 9.9750429e-01]], shape=(1, 8), dtype=float32)\n",
            "[[0. 0. 0. 0. 0. 0. 0. 1.]]\n",
            "Training Ends\n",
            "Epoch 001: Loss: 1.276, Average Training Error: 0.0025, Training error: 0.002 \n"
          ],
          "name": "stdout"
        }
      ]
    },
    {
      "cell_type": "code",
      "metadata": {
        "id": "8DqJd3WKIu3i",
        "colab_type": "code",
        "colab": {}
      },
      "source": [
        ""
      ],
      "execution_count": 0,
      "outputs": []
    }
  ]
}