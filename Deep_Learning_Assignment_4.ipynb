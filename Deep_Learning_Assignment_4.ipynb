{
  "nbformat": 4,
  "nbformat_minor": 0,
  "metadata": {
    "colab": {
      "name": "Deep_Learning_Assignment_4.ipynb",
      "provenance": [],
      "collapsed_sections": [],
      "authorship_tag": "ABX9TyNcKCMVJS92/nFnYXhAay1p",
      "include_colab_link": true
    },
    "kernelspec": {
      "name": "python3",
      "display_name": "Python 3"
    },
    "accelerator": "GPU"
  },
  "cells": [
    {
      "cell_type": "markdown",
      "metadata": {
        "id": "view-in-github",
        "colab_type": "text"
      },
      "source": [
        "<a href=\"https://colab.research.google.com/github/Shrsh/LSTM_and_RNN_Experiments/blob/master/Deep_Learning_Assignment_4.ipynb\" target=\"_parent\"><img src=\"https://colab.research.google.com/assets/colab-badge.svg\" alt=\"Open In Colab\"/></a>"
      ]
    },
    {
      "cell_type": "code",
      "metadata": {
        "id": "z3uv3i49ePfo",
        "colab_type": "code",
        "colab": {
          "base_uri": "https://localhost:8080/",
          "height": 34
        },
        "outputId": "c66c1022-1f81-46a2-8084-01587eee31e8"
      },
      "source": [
        "import math\n",
        "import random\n",
        "import numpy as np\n",
        "import matplotlib\n",
        "import matplotlib.pyplot as plt\n",
        "from collections import namedtuple\n",
        "from itertools import count\n",
        "from PIL import Image\n",
        "from sklearn.metrics import r2_score\n",
        "\n",
        "import tensorflow as tf\n",
        "gpus = tf.config.experimental.list_physical_devices('GPU')\n",
        "if gpus:\n",
        "  try:\n",
        "    # Currently, memory growth needs to be the same across GPUs\n",
        "    for gpu in gpus:\n",
        "      tf.config.experimental.set_memory_growth(gpu, True)\n",
        "    logical_gpus = tf.config.experimental.list_logical_devices('GPU')\n",
        "    print(len(gpus), \"Physical GPUs,\", len(logical_gpus), \"Logical GPUs\")\n",
        "  except RuntimeError as e:\n",
        "    # Memory growth must be set before GPUs have been initialized\n",
        "    print(e)\n",
        "import random\n",
        "from tensorflow.keras.layers import Dense, Flatten, Conv2D\n",
        "from tensorflow.keras import Model"
      ],
      "execution_count": 1,
      "outputs": [
        {
          "output_type": "stream",
          "text": [
            "1 Physical GPUs, 1 Logical GPUs\n"
          ],
          "name": "stdout"
        }
      ]
    },
    {
      "cell_type": "markdown",
      "metadata": {
        "id": "LgS1-n9bfG3C",
        "colab_type": "text"
      },
      "source": [
        "#RNN for Autoregressive Model\n",
        "\n",
        "Generate samples of an Auto Regressive model\n",
        "of the form\n",
        "X(t) = $a_{1}$X(t − 1) + $a_2$X(t − 2) + $a_3$X(t − 3) + U(t)"
      ]
    },
    {
      "cell_type": "code",
      "metadata": {
        "id": "6tHvbK5rfdED",
        "colab_type": "code",
        "outputId": "8d87c8d6-b191-403b-c078-58786ecf014d",
        "colab": {
          "base_uri": "https://localhost:8080/",
          "height": 265
        }
      },
      "source": [
        "def moving_average(a, n=50) :\n",
        "    ret = np.cumsum(a, dtype=float)\n",
        "    ret[n:] = ret[n:] - ret[:-n]\n",
        "    return ret[n - 1:] / n\n",
        "\n",
        "def convertToMatrix(data, step):\n",
        "  X, Y =[], []\n",
        "  for i in range(len(data)-step):\n",
        "    d=i+step  \n",
        "    X.append(data[i:d,])\n",
        "    Y.append(data[d,])\n",
        "  return np.array(X), np.array(Y)\n",
        "\n",
        "def prepare_for_RNN(X,step=3):\n",
        "  #preparing data for RNN, arranging data in step \n",
        "\n",
        "  train = np.array(X[0:1999])\n",
        "  test = np.array(X[2000:3999])\n",
        "\n",
        "  # convert into dataset matrix\n",
        "  # add step elements into train and test\n",
        "  test = np.append(test,np.repeat(test[-1,],step))\n",
        "  train = np.append(train,np.repeat(train[-1,],step))\n",
        "  trainX,trainY =convertToMatrix(train,step)\n",
        "  testX,testY =convertToMatrix(test,step)\n",
        "\n",
        "  trainX = np.reshape(trainX, (trainX.shape[0], 1, trainX.shape[1]))\n",
        "  testX = np.reshape(testX, (testX.shape[0], 1, testX.shape[1]))\n",
        "  return trainX,trainY,testX,testY\n",
        "\n",
        "\n",
        "\n",
        "X = []\n",
        "# auto regressive sequence parameters\n",
        "a1 = 0.6\n",
        "a2 = -0.5\n",
        "a3 = -0.2\n",
        "#defining initial values\n",
        "X.append(1)\n",
        "X.append(0.1)\n",
        "X.append(0.3)\n",
        "step = 15\n",
        "\n",
        "for i in range(4000):\n",
        "    X.append(a1*X[-1] + a2*X[-2] + a3*X[-3] + random.uniform(0, 0.1))\n",
        "sequence_data = np.array(X)\n",
        "#Approximate plotting the moving averages of the sequences\n",
        "plt.plot(moving_average(sequence_data))\n",
        "plt.show()\n",
        "trainX,trainY,testX,testY = prepare_for_RNN(X,step=5)"
      ],
      "execution_count": 2,
      "outputs": [
        {
          "output_type": "display_data",
          "data": {
            "image/png": "[encoded data removed]",
            "text/plain": [
              "<Figure size 432x288 with 1 Axes>"
            ]
          },
          "metadata": {
            "tags": [],
            "needs_background": "light"
          }
        }
      ]
    },
    {
      "cell_type": "markdown",
      "metadata": {
        "id": "3WxoGw4Knd_x",
        "colab_type": "text"
      },
      "source": [
        "Model for RNN - 1 Hidden Layer"
      ]
    },
    {
      "cell_type": "code",
      "metadata": {
        "id": "ACpMTDlUnhuL",
        "colab_type": "code",
        "outputId": "5c74fe34-f208-49bc-afee-d6599e3b0788",
        "colab": {
          "base_uri": "https://localhost:8080/",
          "height": 354
        }
      },
      "source": [
        "model = tf.keras.Sequential()\n",
        "model.add(tf.keras.layers.SimpleRNN(\n",
        "    step*5, activation='tanh',return_sequences=True))\n",
        "model.add(tf.keras.layers.Dense(1))\n",
        "\n",
        "model.compile(optimizer='adam',\n",
        "              loss='mse',\n",
        "              metrics=['mse','mae'])\n",
        "\n",
        "history_track = model.fit(trainX, trainY, epochs=60,batch_size=128, verbose=0)\n",
        "prediction= model.predict(testX)\n",
        "metrics = model.evaluate(testX, testY, verbose=2)\n",
        "print(prediction.shape)\n",
        "print(\"R-sqaure : \" + str(r2_score(testY,prediction.flatten())))\n",
        "print(\"MSE : \" + str(metrics[1]))\n",
        "print(\"MAE : \" + str(metrics[2]))\n",
        "\n",
        "plt.plot(history_track.history['loss'])\n",
        "plt.show() "
      ],
      "execution_count": 3,
      "outputs": [
        {
          "output_type": "stream",
          "text": [
            "63/63 - 0s - loss: 8.5566e-04 - mse: 8.5566e-04 - mae: 0.0252\n",
            "(1999, 1, 1)\n",
            "R-sqaure : 0.5622217271458088\n",
            "MSE : 0.0008556584944017231\n",
            "MAE : 0.02522021345794201\n"
          ],
          "name": "stdout"
        },
        {
          "output_type": "display_data",
          "data": {
            "image/png": "[encoded data removed]",
            "text/plain": [
              "<Figure size 432x288 with 1 Axes>"
            ]
          },
          "metadata": {
            "tags": [],
            "needs_background": "light"
          }
        }
      ]
    },
    {
      "cell_type": "markdown",
      "metadata": {
        "id": "1aRoJR1KFO6v",
        "colab_type": "text"
      },
      "source": [
        "RNN with 2 Hidden Layers \n"
      ]
    },
    {
      "cell_type": "code",
      "metadata": {
        "id": "NrhBrFM-Fb2Z",
        "colab_type": "code",
        "outputId": "6759c535-513b-4817-f612-b08af290f37e",
        "colab": {
          "base_uri": "https://localhost:8080/",
          "height": 333
        }
      },
      "source": [
        "model = tf.keras.Sequential()\n",
        "model.add(tf.keras.layers.SimpleRNN(\n",
        "    step*5, activation='tanh',return_sequences=True))\n",
        "model.add(tf.keras.layers.SimpleRNN(\n",
        "    step*5, activation='tanh',return_sequences=True))\n",
        "model.add(tf.keras.layers.Dense(1))\n",
        "\n",
        "model.compile(optimizer='adam',\n",
        "              loss='mse',\n",
        "              metrics=['mse','mae'])\n",
        "\n",
        "history_track = model.fit(trainX, trainY, epochs=20,batch_size=128, verbose=0)\n",
        "prediction= model.predict(testX)\n",
        "metrics = model.evaluate(testX, testY, verbose=2)\n",
        "print(\"R-sqaure : \" + str(r2_score(testY,prediction.flatten())))\n",
        "print(\"MSE : \" + str(metrics[1]))\n",
        "print(\"MAE : \" + str(metrics[2]))\n",
        "\n",
        "plt.plot(history_track.history['loss'])\n",
        "plt.show() "
      ],
      "execution_count": 4,
      "outputs": [
        {
          "output_type": "stream",
          "text": [
            "63/63 - 0s - loss: 9.7309e-04 - mse: 9.7309e-04 - mae: 0.0264\n",
            "R-sqaure : 0.5021395471633925\n",
            "MSE : 0.0009730918682180345\n",
            "MAE : 0.026350874453783035\n"
          ],
          "name": "stdout"
        },
        {
          "output_type": "display_data",
          "data": {
            "image/png": "[encoded data removed]",
            "text/plain": [
              "<Figure size 432x288 with 1 Axes>"
            ]
          },
          "metadata": {
            "tags": [],
            "needs_background": "light"
          }
        }
      ]
    },
    {
      "cell_type": "markdown",
      "metadata": {
        "id": "tKkxjmWhPANM",
        "colab_type": "text"
      },
      "source": [
        "RNN with 3 hidden layers"
      ]
    },
    {
      "cell_type": "code",
      "metadata": {
        "id": "f0qD6YY9PCrQ",
        "colab_type": "code",
        "outputId": "8ca0e7b4-8379-4c18-de76-6382a4d20e3c",
        "colab": {
          "base_uri": "https://localhost:8080/",
          "height": 333
        }
      },
      "source": [
        "model = tf.keras.Sequential()\n",
        "model.add(tf.keras.layers.SimpleRNN(\n",
        "    step*5, activation='tanh',return_sequences=True))\n",
        "model.add(tf.keras.layers.SimpleRNN(\n",
        "    step*5, activation='tanh',return_sequences=True))\n",
        "model.add(tf.keras.layers.SimpleRNN(\n",
        "    step*5, activation='tanh',return_sequences=True))\n",
        "model.add(tf.keras.layers.Dense(1))\n",
        "\n",
        "model.compile(optimizer='adam',\n",
        "              loss='mse',\n",
        "              metrics=['mse','mae'])\n",
        "\n",
        "history_track = model.fit(trainX, trainY, epochs=100,batch_size=128, verbose=0)\n",
        "prediction= model.predict(testX)\n",
        "metrics = model.evaluate(testX, testY, verbose=2)\n",
        "print(\"R-sqaure : \" + str(r2_score(testY,prediction.flatten())))\n",
        "print(\"MSE : \" + str(metrics[1]))\n",
        "print(\"MAE : \" + str(metrics[2]))\n",
        "plt.plot(history_track.history['loss'])\n",
        "plt.show() "
      ],
      "execution_count": 5,
      "outputs": [
        {
          "output_type": "stream",
          "text": [
            "63/63 - 0s - loss: 8.5209e-04 - mse: 8.5209e-04 - mae: 0.0252\n",
            "R-sqaure : 0.5640470428300568\n",
            "MSE : 0.0008520908304490149\n",
            "MAE : 0.025203214958310127\n"
          ],
          "name": "stdout"
        },
        {
          "output_type": "display_data",
          "data": {
            "image/png": "[encoded data removed]",
            "text/plain": [
              "<Figure size 432x288 with 1 Axes>"
            ]
          },
          "metadata": {
            "tags": [],
            "needs_background": "light"
          }
        }
      ]
    },
    {
      "cell_type": "markdown",
      "metadata": {
        "id": "tzMFnH_4QsBG",
        "colab_type": "text"
      },
      "source": [
        "# RNN For Moving Average Models"
      ]
    },
    {
      "cell_type": "markdown",
      "metadata": {
        "id": "LD2GDMtVRBX6",
        "colab_type": "text"
      },
      "source": [
        "Dataset Creation"
      ]
    },
    {
      "cell_type": "code",
      "metadata": {
        "id": "TKB0iCksQs76",
        "colab_type": "code",
        "outputId": "ff863fc6-ac35-40a6-f14d-8aa0f6d0ced1",
        "colab": {
          "base_uri": "https://localhost:8080/",
          "height": 265
        }
      },
      "source": [
        "#Moving Average Model Parameters\n",
        "a1 = 5\n",
        "a2 = a3 = a4 = a5 = -1\n",
        "\n",
        "values_from_uniform_distribution  = [random.uniform(0,1) for i in range(4000) ]\n",
        "data = np.convolve(np.array(values_from_uniform_distribution), [a1,a2,a3,a4,a5], mode='valid')\n",
        "plt.plot(data)\n",
        "plt.show()\n",
        "step = 15\n",
        "trainX,trainY,testX,testY = prepare_for_RNN(data,step)"
      ],
      "execution_count": 6,
      "outputs": [
        {
          "output_type": "display_data",
          "data": {
            "image/png": "[encoded data removed]",
            "text/plain": [
              "<Figure size 432x288 with 1 Axes>"
            ]
          },
          "metadata": {
            "tags": [],
            "needs_background": "light"
          }
        }
      ]
    },
    {
      "cell_type": "markdown",
      "metadata": {
        "id": "h5JlZgrtTLUH",
        "colab_type": "text"
      },
      "source": [
        "Model Training and Prediction\n",
        "\n",
        "RNN with 1 Hidden Layer"
      ]
    },
    {
      "cell_type": "code",
      "metadata": {
        "id": "OS7rL1BzRjrV",
        "colab_type": "code",
        "outputId": "2bf5f20f-d0df-4c21-a88c-5572bf257f8b",
        "colab": {
          "base_uri": "https://localhost:8080/",
          "height": 333
        }
      },
      "source": [
        "model = tf.keras.Sequential()\n",
        "model.add(tf.keras.layers.SimpleRNN(\n",
        "    step*10, activation='tanh',return_sequences=True))\n",
        "model.add(tf.keras.layers.Dense(1))\n",
        "\n",
        "model.compile(optimizer='adam',\n",
        "              loss='mse',\n",
        "              metrics=['mse','mae'])\n",
        "\n",
        "history_track = model.fit(trainX, trainY, epochs=60,batch_size=128, verbose=0)\n",
        "prediction= model.predict(testX)\n",
        "metrics = model.evaluate(testX, testY, verbose=2)\n",
        "print(\"R-sqaure : \" + str(r2_score(testY,prediction.flatten())))\n",
        "print(\"MSE : \" + str(metrics[1]))\n",
        "print(\"MAE : \" + str(metrics[2]))\n",
        "\n",
        "plt.plot(history_track.history['loss'])\n",
        "plt.show() "
      ],
      "execution_count": 7,
      "outputs": [
        {
          "output_type": "stream",
          "text": [
            "63/63 - 0s - loss: 2.3388 - mse: 2.3388 - mae: 1.3012\n",
            "R-sqaure : 0.03228673022986317\n",
            "MSE : 2.338783025741577\n",
            "MAE : 1.3012216091156006\n"
          ],
          "name": "stdout"
        },
        {
          "output_type": "display_data",
          "data": {
            "image/png": "[encoded data removed]",
            "text/plain": [
              "<Figure size 432x288 with 1 Axes>"
            ]
          },
          "metadata": {
            "tags": [],
            "needs_background": "light"
          }
        }
      ]
    },
    {
      "cell_type": "markdown",
      "metadata": {
        "id": "Ghy06A3TTX7J",
        "colab_type": "text"
      },
      "source": [
        "RNN with 2 hidden layers"
      ]
    },
    {
      "cell_type": "code",
      "metadata": {
        "id": "Uth6l9TOTPXk",
        "colab_type": "code",
        "outputId": "450ac507-cc95-45cf-cab7-b25fe070536b",
        "colab": {
          "base_uri": "https://localhost:8080/",
          "height": 333
        }
      },
      "source": [
        "model = tf.keras.Sequential()\n",
        "model.add(tf.keras.layers.SimpleRNN(\n",
        "    step*10, activation='tanh',return_sequences=True))\n",
        "model.add(tf.keras.layers.SimpleRNN(\n",
        "    step*10, activation='tanh',return_sequences=True))\n",
        "model.add(tf.keras.layers.Dense(1))\n",
        "\n",
        "model.compile(optimizer='adam',\n",
        "              loss='mse',\n",
        "              metrics=['mse','mae'])\n",
        "\n",
        "history_track = model.fit(trainX, trainY, epochs=60,batch_size=128, verbose=0)\n",
        "prediction= model.predict(testX)\n",
        "metrics = model.evaluate(testX, testY, verbose=2)\n",
        "print(\"R-sqaure : \" + str(r2_score(testY,prediction.flatten())))\n",
        "print(\"MSE : \" + str(metrics[1]))\n",
        "print(\"MAE : \" + str(metrics[2]))\n",
        "\n",
        "plt.plot(history_track.history['loss'])\n",
        "plt.show() "
      ],
      "execution_count": 8,
      "outputs": [
        {
          "output_type": "stream",
          "text": [
            "63/63 - 0s - loss: 2.8095 - mse: 2.8095 - mae: 1.3877\n",
            "R-sqaure : -0.16249629531361554\n",
            "MSE : 2.809537172317505\n",
            "MAE : 1.387712001800537\n"
          ],
          "name": "stdout"
        },
        {
          "output_type": "display_data",
          "data": {
            "image/png": "[encoded data removed]",
            "text/plain": [
              "<Figure size 432x288 with 1 Axes>"
            ]
          },
          "metadata": {
            "tags": [],
            "needs_background": "light"
          }
        }
      ]
    },
    {
      "cell_type": "markdown",
      "metadata": {
        "id": "6vihK40-TgFP",
        "colab_type": "text"
      },
      "source": [
        "RNN with 3 hidden layers"
      ]
    },
    {
      "cell_type": "code",
      "metadata": {
        "id": "7IC2OH00Tc9e",
        "colab_type": "code",
        "outputId": "03e92066-f11f-48f4-8f6f-a2c925ab302d",
        "colab": {
          "base_uri": "https://localhost:8080/",
          "height": 333
        }
      },
      "source": [
        "model = tf.keras.Sequential()\n",
        "model.add(tf.keras.layers.SimpleRNN(\n",
        "    step, activation='tanh',return_sequences=True))\n",
        "model.add(tf.keras.layers.SimpleRNN(\n",
        "    step, activation='tanh',return_sequences=True))\n",
        "model.add(tf.keras.layers.SimpleRNN(\n",
        "    step, activation='tanh',return_sequences=True))\n",
        "model.add(tf.keras.layers.Dense(1))\n",
        "\n",
        "model.compile(optimizer='adam',\n",
        "              loss='mse',\n",
        "              metrics=['mse','mae'])\n",
        "\n",
        "history_track = model.fit(trainX, trainY, epochs=20,batch_size=128, verbose=0)\n",
        "prediction= model.predict(testX)\n",
        "metrics = model.evaluate(testX, testY, verbose=2)\n",
        "print(\"R-sqaure : \" + str(r2_score(testY,prediction.flatten())))\n",
        "\n",
        "print(\"MSE : \" + str(metrics[1]))\n",
        "print(\"MAE : \" + str(metrics[2]))\n",
        "\n",
        "plt.plot(history_track.history['loss'])\n",
        "plt.show() "
      ],
      "execution_count": 9,
      "outputs": [
        {
          "output_type": "stream",
          "text": [
            "63/63 - 0s - loss: 2.2773 - mse: 2.2773 - mae: 1.2858\n",
            "R-sqaure : 0.05773543685798277\n",
            "MSE : 2.2772789001464844\n",
            "MAE : 1.2857763767242432\n"
          ],
          "name": "stdout"
        },
        {
          "output_type": "display_data",
          "data": {
            "image/png": "[encoded data removed]",
            "text/plain": [
              "<Figure size 432x288 with 1 Axes>"
            ]
          },
          "metadata": {
            "tags": [],
            "needs_background": "light"
          }
        }
      ]
    },
    {
      "cell_type": "markdown",
      "metadata": {
        "id": "fkZQX0pvcmdB",
        "colab_type": "text"
      },
      "source": [
        "# Detecting Temporal Order. \n",
        "\n",
        "Creating dataset "
      ]
    },
    {
      "cell_type": "code",
      "metadata": {
        "id": "-bKAN6P6Tlq_",
        "colab_type": "code",
        "outputId": "ff6d782a-8d6b-4af8-875a-22492c70d429",
        "colab": {
          "base_uri": "https://localhost:8080/",
          "height": 156
        }
      },
      "source": [
        "def create_dataset():\n",
        "  seq = []\n",
        "  labels = []\n",
        "  for i in range(4000):\n",
        "    seq_len = random.randint(100, 110)\n",
        "    t1 = random.randint(10,20)\n",
        "    t2 = random.randint(33,43)\n",
        "    t3 = random.randint(66,76)\n",
        "    sequence = \"\"\n",
        "    order = \"\"\n",
        "    label = \"\"\n",
        "    for i in range(seq_len):\n",
        "      if i == 0:\n",
        "        sequence+=\"E\"\n",
        "      elif i == seq_len - 1:\n",
        "        sequence+=\"B\"\n",
        "      elif i == t1 or i == t2 or i == t3:\n",
        "        temp = random.choice(['X','Y'])\n",
        "        order+=temp\n",
        "        sequence+=temp\n",
        "      else:\n",
        "        sequence+=random.choice(['a','b','c','d'])\n",
        "    if order == \"XXX\":\n",
        "          label+=\"Q\"\n",
        "    if order == \"XXY\":\n",
        "        label+=\"R\"\n",
        "    if order == \"XYX\":\n",
        "        label+=\"S\"\n",
        "    if order == \"XYY\":\n",
        "        label+=\"U\"\n",
        "    if order == \"YXX\":\n",
        "        label+=\"V\"\n",
        "    if order == \"YXY\":\n",
        "        label+=\"A\"\n",
        "    if order == \"YYX\":\n",
        "        label+=\"B\"\n",
        "    if order == \"YYY\":\n",
        "        label+=\"C\"\n",
        "    seq.append(np.array(list(sequence)))\n",
        "    labels.append(list(label))\n",
        "  return np.array(seq), np.array(labels)\n",
        "\n",
        "seq, labels = create_dataset()\n",
        "#one hot encoding\n",
        "def encoding_sequence(seq):\n",
        "  sequence = []\n",
        "  for x in seq:\n",
        "    y = []\n",
        "    for i in range(len(x)):    \n",
        "      if x[i] == \"E\" or x[i] == \"B\":\n",
        "        y.append(int(1))\n",
        "      elif x[i] == 'X':\n",
        "        y.append(int(2))\n",
        "      elif x[i] == 'Y':\n",
        "        y.append(int(3))\n",
        "      else:\n",
        "        y.append(int(4))\n",
        "    sequence.append(y)\n",
        "  return sequence\n",
        "\n",
        "seq = encoding_sequence(seq)\n",
        "padded_inputs = tf.keras.preprocessing.sequence.pad_sequences(seq,\n",
        "                                                              padding='post')\n",
        "#one-hot encoding\n",
        "from keras.utils import to_categorical\n",
        "encoded_data = [to_categorical(i) for i in padded_inputs]\n",
        "encoded_data = np.reshape(np.array(encoded_data),(4000,5,110))\n",
        "print(encoded_data.shape)\n",
        "# encoded_data = np.reshape(encoded_data,(4000,5,110))\n",
        "#label encoder\n",
        "from sklearn import preprocessing\n",
        "le = preprocessing.LabelEncoder()\n",
        "le.fit(labels)\n",
        "encoded_labels = le.transform(labels)\n",
        "depth = 8\n",
        "encoded_labels = tf.one_hot(encoded_labels, depth,\n",
        "           on_value=1.0, off_value=0.0,\n",
        "           axis=-1)\n",
        "encoded_labels = np.reshape(encoded_labels, (4000,8))\n",
        "print(encoded_labels.shape)"
      ],
      "execution_count": 10,
      "outputs": [
        {
          "output_type": "stream",
          "text": [
            "Using TensorFlow backend.\n"
          ],
          "name": "stderr"
        },
        {
          "output_type": "stream",
          "text": [
            "(4000, 5, 110)\n",
            "(4000, 8)\n"
          ],
          "name": "stdout"
        },
        {
          "output_type": "stream",
          "text": [
            "/usr/local/lib/python3.6/dist-packages/sklearn/preprocessing/_label.py:235: DataConversionWarning: A column-vector y was passed when a 1d array was expected. Please change the shape of y to (n_samples, ), for example using ravel().\n",
            "  y = column_or_1d(y, warn=True)\n",
            "/usr/local/lib/python3.6/dist-packages/sklearn/preprocessing/_label.py:268: DataConversionWarning: A column-vector y was passed when a 1d array was expected. Please change the shape of y to (n_samples, ), for example using ravel().\n",
            "  y = column_or_1d(y, warn=True)\n"
          ],
          "name": "stderr"
        }
      ]
    },
    {
      "cell_type": "markdown",
      "metadata": {
        "id": "mGEMl17ZVW3P",
        "colab_type": "text"
      },
      "source": [
        "LSTM Model "
      ]
    },
    {
      "cell_type": "code",
      "metadata": {
        "id": "AjU4Z0qNjnBo",
        "colab_type": "code",
        "outputId": "addfe21b-9d1c-4282-9fb5-34fcfcaecbc6",
        "colab": {
          "base_uri": "https://localhost:8080/",
          "height": 408
        }
      },
      "source": [
        "#test train split \n",
        "trainX = encoded_data[0:3000]\n",
        "testX = encoded_data[3000:3999]\n",
        "trainY = encoded_labels[0:3000]\n",
        "testY = encoded_labels[3000:3999]\n",
        "\n",
        "model = tf.keras.Sequential([\n",
        "    tf.keras.layers.LSTM(2,return_sequences=True),\n",
        "    tf.keras.layers.LSTM(4,return_sequences=True),\n",
        "    tf.keras.layers.LSTM(8,return_sequences=False),\n",
        "    tf.keras.layers.Dense(8, activation='softmax')])\n",
        "\n",
        "# model.compile(loss='categorical_crossentropy',optimizer=tf.keras.optimizers.Adam(\n",
        "    learning_rate=0.1, beta_1=0.9, beta_2=0.999, epsilon=1e-07), metrics=['accuracy'])\n",
        "# model.fit(trainX,trainY, epochs=50, batch_size=1,verbose=1)\n",
        "\n",
        "#testing and accuracy \n",
        "# predictions = model.predict(testX)\n",
        "# from numpy import linalg as LA\n",
        "# def accuracy(predictions, labels):\n",
        "#     count = 0 \n",
        "#     diff = predictions - labels\n",
        "#     for i in range(predictions.shape[0]):\n",
        "#       if LA.norm(diff[i,:],1) < 0.3:\n",
        "#         count+=1\n",
        "#     return count/predictions.shape[0]\n",
        "# print(accuracy(predictions,testY))\n"
      ],
      "execution_count": 12,
      "outputs": [
        {
          "output_type": "stream",
          "text": [
            "Epoch 1/50\n",
            "1236/3000 [===========>..................] - ETA: 12s - loss: 2.1608 - accuracy: 0.1108"
          ],
          "name": "stdout"
        },
        {
          "output_type": "error",
          "ename": "KeyboardInterrupt",
          "evalue": "ignored",
          "traceback": [
            "\u001b[0;31m---------------------------------------------------------------------------\u001b[0m",
            "\u001b[0;31mKeyboardInterrupt\u001b[0m                         Traceback (most recent call last)",
            "\u001b[0;32m<ipython-input-12-a0f06da7e8c2>\u001b[0m in \u001b[0;36m<module>\u001b[0;34m()\u001b[0m\n\u001b[1;32m     12\u001b[0m model.compile(loss='categorical_crossentropy',optimizer=tf.keras.optimizers.Adam(\n\u001b[1;32m     13\u001b[0m     learning_rate=0.1, beta_1=0.9, beta_2=0.999, epsilon=1e-07), metrics=['accuracy'])\n\u001b[0;32m---> 14\u001b[0;31m \u001b[0mmodel\u001b[0m\u001b[0;34m.\u001b[0m\u001b[0mfit\u001b[0m\u001b[0;34m(\u001b[0m\u001b[0mtrainX\u001b[0m\u001b[0;34m,\u001b[0m\u001b[0mtrainY\u001b[0m\u001b[0;34m,\u001b[0m \u001b[0mepochs\u001b[0m\u001b[0;34m=\u001b[0m\u001b[0;36m50\u001b[0m\u001b[0;34m,\u001b[0m \u001b[0mbatch_size\u001b[0m\u001b[0;34m=\u001b[0m\u001b[0;36m1\u001b[0m\u001b[0;34m,\u001b[0m\u001b[0mverbose\u001b[0m\u001b[0;34m=\u001b[0m\u001b[0;36m1\u001b[0m\u001b[0;34m)\u001b[0m\u001b[0;34m\u001b[0m\u001b[0;34m\u001b[0m\u001b[0m\n\u001b[0m\u001b[1;32m     15\u001b[0m \u001b[0;34m\u001b[0m\u001b[0m\n\u001b[1;32m     16\u001b[0m \u001b[0;31m#testing and accuracy\u001b[0m\u001b[0;34m\u001b[0m\u001b[0;34m\u001b[0m\u001b[0;34m\u001b[0m\u001b[0m\n",
            "\u001b[0;32m/usr/local/lib/python3.6/dist-packages/tensorflow/python/keras/engine/training.py\u001b[0m in \u001b[0;36m_method_wrapper\u001b[0;34m(self, *args, **kwargs)\u001b[0m\n\u001b[1;32m     64\u001b[0m   \u001b[0;32mdef\u001b[0m \u001b[0m_method_wrapper\u001b[0m\u001b[0;34m(\u001b[0m\u001b[0mself\u001b[0m\u001b[0;34m,\u001b[0m \u001b[0;34m*\u001b[0m\u001b[0margs\u001b[0m\u001b[0;34m,\u001b[0m \u001b[0;34m**\u001b[0m\u001b[0mkwargs\u001b[0m\u001b[0;34m)\u001b[0m\u001b[0;34m:\u001b[0m\u001b[0;34m\u001b[0m\u001b[0;34m\u001b[0m\u001b[0m\n\u001b[1;32m     65\u001b[0m     \u001b[0;32mif\u001b[0m \u001b[0;32mnot\u001b[0m \u001b[0mself\u001b[0m\u001b[0;34m.\u001b[0m\u001b[0m_in_multi_worker_mode\u001b[0m\u001b[0;34m(\u001b[0m\u001b[0;34m)\u001b[0m\u001b[0;34m:\u001b[0m  \u001b[0;31m# pylint: disable=protected-access\u001b[0m\u001b[0;34m\u001b[0m\u001b[0;34m\u001b[0m\u001b[0m\n\u001b[0;32m---> 66\u001b[0;31m       \u001b[0;32mreturn\u001b[0m \u001b[0mmethod\u001b[0m\u001b[0;34m(\u001b[0m\u001b[0mself\u001b[0m\u001b[0;34m,\u001b[0m \u001b[0;34m*\u001b[0m\u001b[0margs\u001b[0m\u001b[0;34m,\u001b[0m \u001b[0;34m**\u001b[0m\u001b[0mkwargs\u001b[0m\u001b[0;34m)\u001b[0m\u001b[0;34m\u001b[0m\u001b[0;34m\u001b[0m\u001b[0m\n\u001b[0m\u001b[1;32m     67\u001b[0m \u001b[0;34m\u001b[0m\u001b[0m\n\u001b[1;32m     68\u001b[0m     \u001b[0;31m# Running inside `run_distribute_coordinator` already.\u001b[0m\u001b[0;34m\u001b[0m\u001b[0;34m\u001b[0m\u001b[0;34m\u001b[0m\u001b[0m\n",
            "\u001b[0;32m/usr/local/lib/python3.6/dist-packages/tensorflow/python/keras/engine/training.py\u001b[0m in \u001b[0;36mfit\u001b[0;34m(self, x, y, batch_size, epochs, verbose, callbacks, validation_split, validation_data, shuffle, class_weight, sample_weight, initial_epoch, steps_per_epoch, validation_steps, validation_batch_size, validation_freq, max_queue_size, workers, use_multiprocessing)\u001b[0m\n\u001b[1;32m    853\u001b[0m                 \u001b[0mcontext\u001b[0m\u001b[0;34m.\u001b[0m\u001b[0masync_wait\u001b[0m\u001b[0;34m(\u001b[0m\u001b[0;34m)\u001b[0m\u001b[0;34m\u001b[0m\u001b[0;34m\u001b[0m\u001b[0m\n\u001b[1;32m    854\u001b[0m               \u001b[0mlogs\u001b[0m \u001b[0;34m=\u001b[0m \u001b[0mtmp_logs\u001b[0m  \u001b[0;31m# No error, now safe to assign to logs.\u001b[0m\u001b[0;34m\u001b[0m\u001b[0;34m\u001b[0m\u001b[0m\n\u001b[0;32m--> 855\u001b[0;31m               \u001b[0mcallbacks\u001b[0m\u001b[0;34m.\u001b[0m\u001b[0mon_train_batch_end\u001b[0m\u001b[0;34m(\u001b[0m\u001b[0mstep\u001b[0m\u001b[0;34m,\u001b[0m \u001b[0mlogs\u001b[0m\u001b[0;34m)\u001b[0m\u001b[0;34m\u001b[0m\u001b[0;34m\u001b[0m\u001b[0m\n\u001b[0m\u001b[1;32m    856\u001b[0m         \u001b[0mepoch_logs\u001b[0m \u001b[0;34m=\u001b[0m \u001b[0mcopy\u001b[0m\u001b[0;34m.\u001b[0m\u001b[0mcopy\u001b[0m\u001b[0;34m(\u001b[0m\u001b[0mlogs\u001b[0m\u001b[0;34m)\u001b[0m\u001b[0;34m\u001b[0m\u001b[0;34m\u001b[0m\u001b[0m\n\u001b[1;32m    857\u001b[0m \u001b[0;34m\u001b[0m\u001b[0m\n",
            "\u001b[0;32m/usr/local/lib/python3.6/dist-packages/tensorflow/python/keras/callbacks.py\u001b[0m in \u001b[0;36mon_train_batch_end\u001b[0;34m(self, batch, logs)\u001b[0m\n\u001b[1;32m    387\u001b[0m     \"\"\"\n\u001b[1;32m    388\u001b[0m     \u001b[0;32mif\u001b[0m \u001b[0mself\u001b[0m\u001b[0;34m.\u001b[0m\u001b[0m_should_call_train_batch_hooks\u001b[0m\u001b[0;34m:\u001b[0m\u001b[0;34m\u001b[0m\u001b[0;34m\u001b[0m\u001b[0m\n\u001b[0;32m--> 389\u001b[0;31m       \u001b[0mlogs\u001b[0m \u001b[0;34m=\u001b[0m \u001b[0mself\u001b[0m\u001b[0;34m.\u001b[0m\u001b[0m_process_logs\u001b[0m\u001b[0;34m(\u001b[0m\u001b[0mlogs\u001b[0m\u001b[0;34m)\u001b[0m\u001b[0;34m\u001b[0m\u001b[0;34m\u001b[0m\u001b[0m\n\u001b[0m\u001b[1;32m    390\u001b[0m       \u001b[0mself\u001b[0m\u001b[0;34m.\u001b[0m\u001b[0m_call_batch_hook\u001b[0m\u001b[0;34m(\u001b[0m\u001b[0mModeKeys\u001b[0m\u001b[0;34m.\u001b[0m\u001b[0mTRAIN\u001b[0m\u001b[0;34m,\u001b[0m \u001b[0;34m'end'\u001b[0m\u001b[0;34m,\u001b[0m \u001b[0mbatch\u001b[0m\u001b[0;34m,\u001b[0m \u001b[0mlogs\u001b[0m\u001b[0;34m=\u001b[0m\u001b[0mlogs\u001b[0m\u001b[0;34m)\u001b[0m\u001b[0;34m\u001b[0m\u001b[0;34m\u001b[0m\u001b[0m\n\u001b[1;32m    391\u001b[0m \u001b[0;34m\u001b[0m\u001b[0m\n",
            "\u001b[0;32m/usr/local/lib/python3.6/dist-packages/tensorflow/python/keras/callbacks.py\u001b[0m in \u001b[0;36m_process_logs\u001b[0;34m(self, logs)\u001b[0m\n\u001b[1;32m    263\u001b[0m     \u001b[0;34m\"\"\"Turns tensors into numpy arrays or Python scalars.\"\"\"\u001b[0m\u001b[0;34m\u001b[0m\u001b[0;34m\u001b[0m\u001b[0m\n\u001b[1;32m    264\u001b[0m     \u001b[0;32mif\u001b[0m \u001b[0mlogs\u001b[0m\u001b[0;34m:\u001b[0m\u001b[0;34m\u001b[0m\u001b[0;34m\u001b[0m\u001b[0m\n\u001b[0;32m--> 265\u001b[0;31m       \u001b[0;32mreturn\u001b[0m \u001b[0mtf_utils\u001b[0m\u001b[0;34m.\u001b[0m\u001b[0mto_numpy_or_python_type\u001b[0m\u001b[0;34m(\u001b[0m\u001b[0mlogs\u001b[0m\u001b[0;34m)\u001b[0m\u001b[0;34m\u001b[0m\u001b[0;34m\u001b[0m\u001b[0m\n\u001b[0m\u001b[1;32m    266\u001b[0m     \u001b[0;32mreturn\u001b[0m \u001b[0;34m{\u001b[0m\u001b[0;34m}\u001b[0m\u001b[0;34m\u001b[0m\u001b[0;34m\u001b[0m\u001b[0m\n\u001b[1;32m    267\u001b[0m \u001b[0;34m\u001b[0m\u001b[0m\n",
            "\u001b[0;32m/usr/local/lib/python3.6/dist-packages/tensorflow/python/keras/utils/tf_utils.py\u001b[0m in \u001b[0;36mto_numpy_or_python_type\u001b[0;34m(tensors)\u001b[0m\n\u001b[1;32m    521\u001b[0m     \u001b[0;32mreturn\u001b[0m \u001b[0mt\u001b[0m  \u001b[0;31m# Don't turn ragged or sparse tensors to NumPy.\u001b[0m\u001b[0;34m\u001b[0m\u001b[0;34m\u001b[0m\u001b[0m\n\u001b[1;32m    522\u001b[0m \u001b[0;34m\u001b[0m\u001b[0m\n\u001b[0;32m--> 523\u001b[0;31m   \u001b[0;32mreturn\u001b[0m \u001b[0mnest\u001b[0m\u001b[0;34m.\u001b[0m\u001b[0mmap_structure\u001b[0m\u001b[0;34m(\u001b[0m\u001b[0m_to_single_numpy_or_python_type\u001b[0m\u001b[0;34m,\u001b[0m \u001b[0mtensors\u001b[0m\u001b[0;34m)\u001b[0m\u001b[0;34m\u001b[0m\u001b[0;34m\u001b[0m\u001b[0m\n\u001b[0m\u001b[1;32m    524\u001b[0m \u001b[0;34m\u001b[0m\u001b[0m\n",
            "\u001b[0;32m/usr/local/lib/python3.6/dist-packages/tensorflow/python/util/nest.py\u001b[0m in \u001b[0;36mmap_structure\u001b[0;34m(func, *structure, **kwargs)\u001b[0m\n\u001b[1;32m    615\u001b[0m \u001b[0;34m\u001b[0m\u001b[0m\n\u001b[1;32m    616\u001b[0m   return pack_sequence_as(\n\u001b[0;32m--> 617\u001b[0;31m       \u001b[0mstructure\u001b[0m\u001b[0;34m[\u001b[0m\u001b[0;36m0\u001b[0m\u001b[0;34m]\u001b[0m\u001b[0;34m,\u001b[0m \u001b[0;34m[\u001b[0m\u001b[0mfunc\u001b[0m\u001b[0;34m(\u001b[0m\u001b[0;34m*\u001b[0m\u001b[0mx\u001b[0m\u001b[0;34m)\u001b[0m \u001b[0;32mfor\u001b[0m \u001b[0mx\u001b[0m \u001b[0;32min\u001b[0m \u001b[0mentries\u001b[0m\u001b[0;34m]\u001b[0m\u001b[0;34m,\u001b[0m\u001b[0;34m\u001b[0m\u001b[0;34m\u001b[0m\u001b[0m\n\u001b[0m\u001b[1;32m    618\u001b[0m       expand_composites=expand_composites)\n\u001b[1;32m    619\u001b[0m \u001b[0;34m\u001b[0m\u001b[0m\n",
            "\u001b[0;32m/usr/local/lib/python3.6/dist-packages/tensorflow/python/util/nest.py\u001b[0m in \u001b[0;36m<listcomp>\u001b[0;34m(.0)\u001b[0m\n\u001b[1;32m    615\u001b[0m \u001b[0;34m\u001b[0m\u001b[0m\n\u001b[1;32m    616\u001b[0m   return pack_sequence_as(\n\u001b[0;32m--> 617\u001b[0;31m       \u001b[0mstructure\u001b[0m\u001b[0;34m[\u001b[0m\u001b[0;36m0\u001b[0m\u001b[0;34m]\u001b[0m\u001b[0;34m,\u001b[0m \u001b[0;34m[\u001b[0m\u001b[0mfunc\u001b[0m\u001b[0;34m(\u001b[0m\u001b[0;34m*\u001b[0m\u001b[0mx\u001b[0m\u001b[0;34m)\u001b[0m \u001b[0;32mfor\u001b[0m \u001b[0mx\u001b[0m \u001b[0;32min\u001b[0m \u001b[0mentries\u001b[0m\u001b[0;34m]\u001b[0m\u001b[0;34m,\u001b[0m\u001b[0;34m\u001b[0m\u001b[0;34m\u001b[0m\u001b[0m\n\u001b[0m\u001b[1;32m    618\u001b[0m       expand_composites=expand_composites)\n\u001b[1;32m    619\u001b[0m \u001b[0;34m\u001b[0m\u001b[0m\n",
            "\u001b[0;32m/usr/local/lib/python3.6/dist-packages/tensorflow/python/keras/utils/tf_utils.py\u001b[0m in \u001b[0;36m_to_single_numpy_or_python_type\u001b[0;34m(t)\u001b[0m\n\u001b[1;32m    517\u001b[0m   \u001b[0;32mdef\u001b[0m \u001b[0m_to_single_numpy_or_python_type\u001b[0m\u001b[0;34m(\u001b[0m\u001b[0mt\u001b[0m\u001b[0;34m)\u001b[0m\u001b[0;34m:\u001b[0m\u001b[0;34m\u001b[0m\u001b[0;34m\u001b[0m\u001b[0m\n\u001b[1;32m    518\u001b[0m     \u001b[0;32mif\u001b[0m \u001b[0misinstance\u001b[0m\u001b[0;34m(\u001b[0m\u001b[0mt\u001b[0m\u001b[0;34m,\u001b[0m \u001b[0mops\u001b[0m\u001b[0;34m.\u001b[0m\u001b[0mTensor\u001b[0m\u001b[0;34m)\u001b[0m\u001b[0;34m:\u001b[0m\u001b[0;34m\u001b[0m\u001b[0;34m\u001b[0m\u001b[0m\n\u001b[0;32m--> 519\u001b[0;31m       \u001b[0mx\u001b[0m \u001b[0;34m=\u001b[0m \u001b[0mt\u001b[0m\u001b[0;34m.\u001b[0m\u001b[0mnumpy\u001b[0m\u001b[0;34m(\u001b[0m\u001b[0;34m)\u001b[0m\u001b[0;34m\u001b[0m\u001b[0;34m\u001b[0m\u001b[0m\n\u001b[0m\u001b[1;32m    520\u001b[0m       \u001b[0;32mreturn\u001b[0m \u001b[0mx\u001b[0m\u001b[0;34m.\u001b[0m\u001b[0mitem\u001b[0m\u001b[0;34m(\u001b[0m\u001b[0;34m)\u001b[0m \u001b[0;32mif\u001b[0m \u001b[0mnp\u001b[0m\u001b[0;34m.\u001b[0m\u001b[0mndim\u001b[0m\u001b[0;34m(\u001b[0m\u001b[0mx\u001b[0m\u001b[0;34m)\u001b[0m \u001b[0;34m==\u001b[0m \u001b[0;36m0\u001b[0m \u001b[0;32melse\u001b[0m \u001b[0mx\u001b[0m\u001b[0;34m\u001b[0m\u001b[0;34m\u001b[0m\u001b[0m\n\u001b[1;32m    521\u001b[0m     \u001b[0;32mreturn\u001b[0m \u001b[0mt\u001b[0m  \u001b[0;31m# Don't turn ragged or sparse tensors to NumPy.\u001b[0m\u001b[0;34m\u001b[0m\u001b[0;34m\u001b[0m\u001b[0m\n",
            "\u001b[0;32m/usr/local/lib/python3.6/dist-packages/tensorflow/python/framework/ops.py\u001b[0m in \u001b[0;36mnumpy\u001b[0;34m(self)\u001b[0m\n\u001b[1;32m    959\u001b[0m     \"\"\"\n\u001b[1;32m    960\u001b[0m     \u001b[0;31m# TODO(slebedev): Consider avoiding a copy for non-CPU or remote tensors.\u001b[0m\u001b[0;34m\u001b[0m\u001b[0;34m\u001b[0m\u001b[0;34m\u001b[0m\u001b[0m\n\u001b[0;32m--> 961\u001b[0;31m     \u001b[0mmaybe_arr\u001b[0m \u001b[0;34m=\u001b[0m \u001b[0mself\u001b[0m\u001b[0;34m.\u001b[0m\u001b[0m_numpy\u001b[0m\u001b[0;34m(\u001b[0m\u001b[0;34m)\u001b[0m  \u001b[0;31m# pylint: disable=protected-access\u001b[0m\u001b[0;34m\u001b[0m\u001b[0;34m\u001b[0m\u001b[0m\n\u001b[0m\u001b[1;32m    962\u001b[0m     \u001b[0;32mreturn\u001b[0m \u001b[0mmaybe_arr\u001b[0m\u001b[0;34m.\u001b[0m\u001b[0mcopy\u001b[0m\u001b[0;34m(\u001b[0m\u001b[0;34m)\u001b[0m \u001b[0;32mif\u001b[0m \u001b[0misinstance\u001b[0m\u001b[0;34m(\u001b[0m\u001b[0mmaybe_arr\u001b[0m\u001b[0;34m,\u001b[0m \u001b[0mnp\u001b[0m\u001b[0;34m.\u001b[0m\u001b[0mndarray\u001b[0m\u001b[0;34m)\u001b[0m \u001b[0;32melse\u001b[0m \u001b[0mmaybe_arr\u001b[0m\u001b[0;34m\u001b[0m\u001b[0;34m\u001b[0m\u001b[0m\n\u001b[1;32m    963\u001b[0m \u001b[0;34m\u001b[0m\u001b[0m\n",
            "\u001b[0;32m/usr/local/lib/python3.6/dist-packages/tensorflow/python/framework/ops.py\u001b[0m in \u001b[0;36m_numpy\u001b[0;34m(self)\u001b[0m\n\u001b[1;32m    925\u001b[0m     \u001b[0;31m# pylint: disable=protected-access\u001b[0m\u001b[0;34m\u001b[0m\u001b[0;34m\u001b[0m\u001b[0;34m\u001b[0m\u001b[0m\n\u001b[1;32m    926\u001b[0m     \u001b[0;32mtry\u001b[0m\u001b[0;34m:\u001b[0m\u001b[0;34m\u001b[0m\u001b[0;34m\u001b[0m\u001b[0m\n\u001b[0;32m--> 927\u001b[0;31m       \u001b[0;32mreturn\u001b[0m \u001b[0mself\u001b[0m\u001b[0;34m.\u001b[0m\u001b[0m_numpy_internal\u001b[0m\u001b[0;34m(\u001b[0m\u001b[0;34m)\u001b[0m\u001b[0;34m\u001b[0m\u001b[0;34m\u001b[0m\u001b[0m\n\u001b[0m\u001b[1;32m    928\u001b[0m     \u001b[0;32mexcept\u001b[0m \u001b[0mcore\u001b[0m\u001b[0;34m.\u001b[0m\u001b[0m_NotOkStatusException\u001b[0m \u001b[0;32mas\u001b[0m \u001b[0me\u001b[0m\u001b[0;34m:\u001b[0m\u001b[0;34m\u001b[0m\u001b[0;34m\u001b[0m\u001b[0m\n\u001b[1;32m    929\u001b[0m       \u001b[0msix\u001b[0m\u001b[0;34m.\u001b[0m\u001b[0mraise_from\u001b[0m\u001b[0;34m(\u001b[0m\u001b[0mcore\u001b[0m\u001b[0;34m.\u001b[0m\u001b[0m_status_to_exception\u001b[0m\u001b[0;34m(\u001b[0m\u001b[0me\u001b[0m\u001b[0;34m.\u001b[0m\u001b[0mcode\u001b[0m\u001b[0;34m,\u001b[0m \u001b[0me\u001b[0m\u001b[0;34m.\u001b[0m\u001b[0mmessage\u001b[0m\u001b[0;34m)\u001b[0m\u001b[0;34m,\u001b[0m \u001b[0;32mNone\u001b[0m\u001b[0;34m)\u001b[0m\u001b[0;34m\u001b[0m\u001b[0;34m\u001b[0m\u001b[0m\n",
            "\u001b[0;31mKeyboardInterrupt\u001b[0m: "
          ]
        }
      ]
    },
    {
      "cell_type": "code",
      "metadata": {
        "id": "g7fEf7s13Qin",
        "colab_type": "code",
        "colab": {}
      },
      "source": [
        "from numpy import linalg as LA\n",
        "\n",
        "def loss(model, x, y, training):\n",
        "  # training=training is needed only if there are layers with different\n",
        "  # behavior during training versus inference (e.g. Dropout).\n",
        "  y_ = model(x, training=training)\n",
        "  return loss_object(y_true=y, y_pred=y_)\n",
        "\n",
        "def grad(model, inputs, targets):\n",
        "  with tf.GradientTape() as tape:\n",
        "    loss_value = loss(model, inputs, targets, training=True)\n",
        "  return loss_value, tape.gradient(loss_value, model.trainable_variables)\n",
        "\n",
        "loss_object = tf.keras.losses.CategoricalCrossentropy(from_logits=True)\n",
        "optimizer = tf.keras.optimizers.SGD(learning_rate=0.01)\n",
        "\n",
        "# Keep results for plotting\n",
        "train_loss_results = []\n",
        "train_accuracy_results = []\n",
        "av_training_error = 0\n",
        "num_epochs = 0\n",
        "\n",
        "while True:\n",
        "  num_epochs+=1\n",
        "  epoch_loss_avg = tf.keras.metrics.Mean()\n",
        "  # Training loop - using batches of 32\n",
        "  for i in range(encoded_data.shape[0]):\n",
        "    # Optimize the model\n",
        "    x = np.reshape(encoded_data[i],(1,5,110))\n",
        "    y = np.reshape(encoded_labels[i], (1,8))\n",
        "    loss_value, grads = grad(model,x, y)\n",
        "    optimizer.apply_gradients(zip(grads, model.trainable_variables))\n",
        "    predictions = model.predict(x)\n",
        "    av_training_error+= (LA.norm(predictions - encoded_labels[i], 1) - av_training_error)/num_epochs\n",
        "    # Track progress\n",
        "    epoch_loss_avg.update_state(loss_value)\n",
        "  # End epoch\n",
        "  train_loss_results.append(epoch_loss_avg.result())\n",
        "\n",
        "  if num_epochs % 2 == 0:\n",
        "    print(\"Epoch {:03d}: Loss: {:.3f}, Performance_Metric: {:.3%}\".format(num_epochs,\n",
        "                                                                epoch_loss_avg.result(),av_training_error))\n",
        "  if av_training_error < 0.1:\n",
        "    break"
      ],
      "execution_count": 0,
      "outputs": []
    },
    {
      "cell_type": "code",
      "metadata": {
        "id": "8DqJd3WKIu3i",
        "colab_type": "code",
        "colab": {}
      },
      "source": [
        ""
      ],
      "execution_count": 0,
      "outputs": []
    }
  ]
}