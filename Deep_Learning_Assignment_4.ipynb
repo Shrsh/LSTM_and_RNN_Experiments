{
  "nbformat": 4,
  "nbformat_minor": 0,
  "metadata": {
    "colab": {
      "name": "Deep_Learning_Assignment_4.ipynb",
      "provenance": [],
      "collapsed_sections": [],
      "authorship_tag": "ABX9TyMi4D8Ml8y/C3TpNSG16lhz",
      "include_colab_link": true
    },
    "kernelspec": {
      "name": "python3",
      "display_name": "Python 3"
    },
    "accelerator": "GPU"
  },
  "cells": [
    {
      "cell_type": "markdown",
      "metadata": {
        "id": "view-in-github",
        "colab_type": "text"
      },
      "source": [
        "<a href=\"https://colab.research.google.com/github/Shrsh/LSTM_and_RNN_Experiments/blob/master/Deep_Learning_Assignment_4.ipynb\" target=\"_parent\"><img src=\"https://colab.research.google.com/assets/colab-badge.svg\" alt=\"Open In Colab\"/></a>"
      ]
    },
    {
      "cell_type": "code",
      "metadata": {
        "id": "z3uv3i49ePfo",
        "colab_type": "code",
        "outputId": "25cbb7dc-2855-4de9-cc50-0846b35a6a7a",
        "colab": {
          "base_uri": "https://localhost:8080/",
          "height": 34
        }
      },
      "source": [
        "import math\n",
        "import random\n",
        "import numpy as np\n",
        "import matplotlib\n",
        "import matplotlib.pyplot as plt\n",
        "from collections import namedtuple\n",
        "from itertools import count\n",
        "from PIL import Image\n",
        "from sklearn.metrics import r2_score\n",
        "import sys\n",
        "from numpy import linalg as LA\n",
        "from keras.utils import to_categorical\n",
        "from sklearn import preprocessing\n",
        "\n",
        "\n",
        "import tensorflow as tf\n",
        "gpus = tf.config.experimental.list_physical_devices('GPU')\n",
        "if gpus:\n",
        "  try:\n",
        "    # Currently, memory growth needs to be the same across GPUs\n",
        "    for gpu in gpus:\n",
        "      tf.config.experimental.set_memory_growth(gpu, True)\n",
        "    logical_gpus = tf.config.experimental.list_logical_devices('GPU')\n",
        "    print(len(gpus), \"Physical GPUs,\", len(logical_gpus), \"Logical GPUs\")\n",
        "  except RuntimeError as e:\n",
        "    # Memory growth must be set before GPUs have been initialized\n",
        "    print(e)\n",
        "import random\n",
        "from tensorflow.keras.layers import Dense, Flatten, Conv2D\n",
        "from tensorflow.keras import Model"
      ],
      "execution_count": 24,
      "outputs": [
        {
          "output_type": "stream",
          "text": [
            "1 Physical GPUs, 1 Logical GPUs\n"
          ],
          "name": "stdout"
        }
      ]
    },
    {
      "cell_type": "markdown",
      "metadata": {
        "id": "LgS1-n9bfG3C",
        "colab_type": "text"
      },
      "source": [
        "#RNN for Autoregressive Model\n",
        "\n",
        "Generate samples of an Auto Regressive model\n",
        "of the form\n",
        "X(t) = $a_{1}$X(t − 1) + $a_2$X(t − 2) + $a_3$X(t − 3) + U(t)"
      ]
    },
    {
      "cell_type": "code",
      "metadata": {
        "id": "6tHvbK5rfdED",
        "colab_type": "code",
        "outputId": "c60e1f67-14b4-4aa9-b921-54a554a3946b",
        "colab": {
          "base_uri": "https://localhost:8080/",
          "height": 265
        }
      },
      "source": [
        "def moving_average(a, n=50) :\n",
        "    ret = np.cumsum(a, dtype=float)\n",
        "    ret[n:] = ret[n:] - ret[:-n]\n",
        "    return ret[n - 1:] / n\n",
        "\n",
        "def convertToMatrix(data, step):\n",
        "  X, Y =[], []\n",
        "  for i in range(len(data)-step):\n",
        "    d=i+step  \n",
        "    X.append(data[i:d,])\n",
        "    Y.append(data[d,])\n",
        "  return np.array(X), np.array(Y)\n",
        "\n",
        "def prepare_for_RNN(X,step=3):\n",
        "  #preparing data for RNN, arranging data in step \n",
        "\n",
        "  train = np.array(X[0:1999])\n",
        "  test = np.array(X[2000:3999])\n",
        "\n",
        "  # convert into dataset matrix\n",
        "  # add step elements into train and test\n",
        "  test = np.append(test,np.repeat(test[-1,],step))\n",
        "  train = np.append(train,np.repeat(train[-1,],step))\n",
        "  trainX,trainY =convertToMatrix(train,step)\n",
        "  testX,testY =convertToMatrix(test,step)\n",
        "\n",
        "  trainX = np.reshape(trainX, (trainX.shape[0], 1, trainX.shape[1]))\n",
        "  testX = np.reshape(testX, (testX.shape[0], 1, testX.shape[1]))\n",
        "  return trainX,trainY,testX,testY\n",
        "\n",
        "\n",
        "\n",
        "X = []\n",
        "# auto regressive sequence parameters\n",
        "a1 = 0.6\n",
        "a2 = -0.5\n",
        "a3 = -0.2\n",
        "#defining initial values\n",
        "X.append(1)\n",
        "X.append(0.1)\n",
        "X.append(0.3)\n",
        "step = 15\n",
        "\n",
        "for i in range(4000):\n",
        "    X.append(a1*X[-1] + a2*X[-2] + a3*X[-3] + random.uniform(0, 0.1))\n",
        "sequence_data = np.array(X)\n",
        "#Approximate plotting the moving averages of the sequences\n",
        "plt.plot(moving_average(sequence_data))\n",
        "plt.show()\n",
        "trainX,trainY,testX,testY = prepare_for_RNN(X,step=5)"
      ],
      "execution_count": 13,
      "outputs": [
        {
          "output_type": "display_data",
          "data": {
            "image/png": "[encoded data removed]",
            "text/plain": [
              "<Figure size 432x288 with 1 Axes>"
            ]
          },
          "metadata": {
            "tags": [],
            "needs_background": "light"
          }
        }
      ]
    },
    {
      "cell_type": "markdown",
      "metadata": {
        "id": "3WxoGw4Knd_x",
        "colab_type": "text"
      },
      "source": [
        "Model for RNN - 1 Hidden Layer"
      ]
    },
    {
      "cell_type": "code",
      "metadata": {
        "id": "ACpMTDlUnhuL",
        "colab_type": "code",
        "outputId": "b1911591-032d-4beb-bbc9-81f9ca160685",
        "colab": {
          "base_uri": "https://localhost:8080/",
          "height": 350
        }
      },
      "source": [
        "model = tf.keras.Sequential()\n",
        "model.add(tf.keras.layers.SimpleRNN(\n",
        "    step*5, activation='tanh',return_sequences=True))\n",
        "model.add(tf.keras.layers.Dense(1))\n",
        "\n",
        "model.compile(optimizer='adam',\n",
        "              loss='mse',\n",
        "              metrics=['mse','mae'])\n",
        "\n",
        "history_track = model.fit(trainX, trainY, epochs=60,batch_size=128, verbose=0)\n",
        "prediction= model.predict(testX)\n",
        "metrics = model.evaluate(testX, testY, verbose=2)\n",
        "print(prediction.shape)\n",
        "print(\"R-sqaure : \" + str(r2_score(testY,prediction.flatten())))\n",
        "print(\"MSE : \" + str(metrics[1]))\n",
        "print(\"MAE : \" + str(metrics[2]))\n",
        "\n",
        "plt.plot(history_track.history['loss'])\n",
        "plt.show() "
      ],
      "execution_count": 14,
      "outputs": [
        {
          "output_type": "stream",
          "text": [
            "63/63 - 0s - loss: 8.4238e-04 - mse: 8.4238e-04 - mae: 0.0251\n",
            "(1999, 1, 1)\n",
            "R-sqaure : 0.5423426495463259\n",
            "MSE : 0.0008423762046732008\n",
            "MAE : 0.02506425976753235\n"
          ],
          "name": "stdout"
        },
        {
          "output_type": "display_data",
          "data": {
            "image/png": "[encoded data removed]",
            "text/plain": [
              "<Figure size 432x288 with 1 Axes>"
            ]
          },
          "metadata": {
            "tags": [],
            "needs_background": "light"
          }
        }
      ]
    },
    {
      "cell_type": "markdown",
      "metadata": {
        "id": "1aRoJR1KFO6v",
        "colab_type": "text"
      },
      "source": [
        "RNN with 2 Hidden Layers \n"
      ]
    },
    {
      "cell_type": "code",
      "metadata": {
        "id": "NrhBrFM-Fb2Z",
        "colab_type": "code",
        "outputId": "5f7bada1-6a4f-4e02-cf8f-d1ea4fffdcad",
        "colab": {
          "base_uri": "https://localhost:8080/",
          "height": 334
        }
      },
      "source": [
        "model = tf.keras.Sequential()\n",
        "model.add(tf.keras.layers.SimpleRNN(\n",
        "    step*5, activation='tanh',return_sequences=True))\n",
        "model.add(tf.keras.layers.SimpleRNN(\n",
        "    step*5, activation='tanh',return_sequences=True))\n",
        "model.add(tf.keras.layers.Dense(1))\n",
        "\n",
        "model.compile(optimizer='adam',\n",
        "              loss='mse',\n",
        "              metrics=['mse','mae'])\n",
        "\n",
        "history_track = model.fit(trainX, trainY, epochs=20,batch_size=128, verbose=0)\n",
        "prediction= model.predict(testX)\n",
        "metrics = model.evaluate(testX, testY, verbose=2)\n",
        "print(\"R-sqaure : \" + str(r2_score(testY,prediction.flatten())))\n",
        "print(\"MSE : \" + str(metrics[1]))\n",
        "print(\"MAE : \" + str(metrics[2]))\n",
        "\n",
        "plt.plot(history_track.history['loss'])\n",
        "plt.show() "
      ],
      "execution_count": 15,
      "outputs": [
        {
          "output_type": "stream",
          "text": [
            "63/63 - 0s - loss: 8.6065e-04 - mse: 8.6065e-04 - mae: 0.0253\n",
            "R-sqaure : 0.5324122278726027\n",
            "MSE : 0.0008606542833149433\n",
            "MAE : 0.025292912498116493\n"
          ],
          "name": "stdout"
        },
        {
          "output_type": "display_data",
          "data": {
            "image/png": "[encoded data removed]",
            "text/plain": [
              "<Figure size 432x288 with 1 Axes>"
            ]
          },
          "metadata": {
            "tags": [],
            "needs_background": "light"
          }
        }
      ]
    },
    {
      "cell_type": "markdown",
      "metadata": {
        "id": "tKkxjmWhPANM",
        "colab_type": "text"
      },
      "source": [
        "RNN with 3 hidden layers"
      ]
    },
    {
      "cell_type": "code",
      "metadata": {
        "id": "f0qD6YY9PCrQ",
        "colab_type": "code",
        "outputId": "d8236937-5ab5-4b52-84b2-c95df35d6821",
        "colab": {
          "base_uri": "https://localhost:8080/",
          "height": 333
        }
      },
      "source": [
        "model = tf.keras.Sequential()\n",
        "model.add(tf.keras.layers.SimpleRNN(\n",
        "    step*5, activation='tanh',return_sequences=True))\n",
        "model.add(tf.keras.layers.SimpleRNN(\n",
        "    step*5, activation='tanh',return_sequences=True))\n",
        "model.add(tf.keras.layers.SimpleRNN(\n",
        "    step*5, activation='tanh',return_sequences=True))\n",
        "model.add(tf.keras.layers.Dense(1))\n",
        "\n",
        "model.compile(optimizer='adam',\n",
        "              loss='mse',\n",
        "              metrics=['mse','mae'])\n",
        "\n",
        "history_track = model.fit(trainX, trainY, epochs=100,batch_size=128, verbose=0)\n",
        "prediction= model.predict(testX)\n",
        "metrics = model.evaluate(testX, testY, verbose=2)\n",
        "print(\"R-sqaure : \" + str(r2_score(testY,prediction.flatten())))\n",
        "print(\"MSE : \" + str(metrics[1]))\n",
        "print(\"MAE : \" + str(metrics[2]))\n",
        "plt.plot(history_track.history['loss'])\n",
        "plt.show() "
      ],
      "execution_count": 16,
      "outputs": [
        {
          "output_type": "stream",
          "text": [
            "63/63 - 0s - loss: 8.7020e-04 - mse: 8.7020e-04 - mae: 0.0254\n",
            "R-sqaure : 0.5272253114098007\n",
            "MSE : 0.0008702014456503093\n",
            "MAE : 0.025425344705581665\n"
          ],
          "name": "stdout"
        },
        {
          "output_type": "display_data",
          "data": {
            "image/png": "[encoded data removed]",
            "text/plain": [
              "<Figure size 432x288 with 1 Axes>"
            ]
          },
          "metadata": {
            "tags": [],
            "needs_background": "light"
          }
        }
      ]
    },
    {
      "cell_type": "markdown",
      "metadata": {
        "id": "tzMFnH_4QsBG",
        "colab_type": "text"
      },
      "source": [
        "# RNN For Moving Average Models"
      ]
    },
    {
      "cell_type": "markdown",
      "metadata": {
        "id": "LD2GDMtVRBX6",
        "colab_type": "text"
      },
      "source": [
        "Dataset Creation"
      ]
    },
    {
      "cell_type": "code",
      "metadata": {
        "id": "TKB0iCksQs76",
        "colab_type": "code",
        "outputId": "35c45d55-9061-4403-cf53-652643b77ad8",
        "colab": {
          "base_uri": "https://localhost:8080/",
          "height": 265
        }
      },
      "source": [
        "#Moving Average Model Parameters\n",
        "a1 = 5\n",
        "a2 = a3 = a4 = a5 = -1\n",
        "\n",
        "values_from_uniform_distribution  = [random.uniform(0,1) for i in range(4000) ]\n",
        "data = np.convolve(np.array(values_from_uniform_distribution), [a1,a2,a3,a4,a5], mode='valid')\n",
        "plt.plot(data)\n",
        "plt.show()\n",
        "step = 15\n",
        "trainX,trainY,testX,testY = prepare_for_RNN(data,step)"
      ],
      "execution_count": 17,
      "outputs": [
        {
          "output_type": "display_data",
          "data": {
            "image/png": "[encoded data removed]",
            "text/plain": [
              "<Figure size 432x288 with 1 Axes>"
            ]
          },
          "metadata": {
            "tags": [],
            "needs_background": "light"
          }
        }
      ]
    },
    {
      "cell_type": "markdown",
      "metadata": {
        "id": "h5JlZgrtTLUH",
        "colab_type": "text"
      },
      "source": [
        "Model Training and Prediction\n",
        "\n",
        "RNN with 1 Hidden Layer"
      ]
    },
    {
      "cell_type": "code",
      "metadata": {
        "id": "OS7rL1BzRjrV",
        "colab_type": "code",
        "outputId": "d64d1e11-5235-4941-cd0e-9f360d6147bd",
        "colab": {
          "base_uri": "https://localhost:8080/",
          "height": 333
        }
      },
      "source": [
        "model = tf.keras.Sequential()\n",
        "model.add(tf.keras.layers.SimpleRNN(\n",
        "    step*10, activation='tanh',return_sequences=True))\n",
        "model.add(tf.keras.layers.Dense(1))\n",
        "\n",
        "model.compile(optimizer='adam',\n",
        "              loss='mse',\n",
        "              metrics=['mse','mae'])\n",
        "\n",
        "history_track = model.fit(trainX, trainY, epochs=60,batch_size=128, verbose=0)\n",
        "prediction= model.predict(testX)\n",
        "metrics = model.evaluate(testX, testY, verbose=2)\n",
        "print(\"R-sqaure : \" + str(r2_score(testY,prediction.flatten())))\n",
        "print(\"MSE : \" + str(metrics[1]))\n",
        "print(\"MAE : \" + str(metrics[2]))\n",
        "\n",
        "plt.plot(history_track.history['loss'])\n",
        "plt.show() "
      ],
      "execution_count": 18,
      "outputs": [
        {
          "output_type": "stream",
          "text": [
            "63/63 - 0s - loss: 2.3313 - mse: 2.3313 - mae: 1.3067\n",
            "R-sqaure : 0.05572514625219649\n",
            "MSE : 2.3313162326812744\n",
            "MAE : 1.3066850900650024\n"
          ],
          "name": "stdout"
        },
        {
          "output_type": "display_data",
          "data": {
            "image/png": "[encoded data removed]",
            "text/plain": [
              "<Figure size 432x288 with 1 Axes>"
            ]
          },
          "metadata": {
            "tags": [],
            "needs_background": "light"
          }
        }
      ]
    },
    {
      "cell_type": "markdown",
      "metadata": {
        "id": "Ghy06A3TTX7J",
        "colab_type": "text"
      },
      "source": [
        "RNN with 2 hidden layers"
      ]
    },
    {
      "cell_type": "code",
      "metadata": {
        "id": "Uth6l9TOTPXk",
        "colab_type": "code",
        "outputId": "52529ba8-4558-4b88-98d6-28c9d46ee199",
        "colab": {
          "base_uri": "https://localhost:8080/",
          "height": 337
        }
      },
      "source": [
        "model = tf.keras.Sequential()\n",
        "model.add(tf.keras.layers.SimpleRNN(\n",
        "    step*10, activation='tanh',return_sequences=True))\n",
        "model.add(tf.keras.layers.SimpleRNN(\n",
        "    step*10, activation='tanh',return_sequences=True))\n",
        "model.add(tf.keras.layers.Dense(1))\n",
        "\n",
        "model.compile(optimizer='adam',\n",
        "              loss='mse',\n",
        "              metrics=['mse','mae'])\n",
        "\n",
        "history_track = model.fit(trainX, trainY, epochs=60,batch_size=128, verbose=0)\n",
        "prediction= model.predict(testX)\n",
        "metrics = model.evaluate(testX, testY, verbose=2)\n",
        "print(\"R-sqaure : \" + str(r2_score(testY,prediction.flatten())))\n",
        "print(\"MSE : \" + str(metrics[1]))\n",
        "print(\"MAE : \" + str(metrics[2]))\n",
        "\n",
        "plt.plot(history_track.history['loss'])\n",
        "plt.show() "
      ],
      "execution_count": 19,
      "outputs": [
        {
          "output_type": "stream",
          "text": [
            "63/63 - 0s - loss: 3.0199 - mse: 3.0199 - mae: 1.4440\n",
            "R-sqaure : -0.2231799382185331\n",
            "MSE : 3.019904136657715\n",
            "MAE : 1.4440499544143677\n"
          ],
          "name": "stdout"
        },
        {
          "output_type": "display_data",
          "data": {
            "image/png": "[encoded data removed]",
            "text/plain": [
              "<Figure size 432x288 with 1 Axes>"
            ]
          },
          "metadata": {
            "tags": [],
            "needs_background": "light"
          }
        }
      ]
    },
    {
      "cell_type": "markdown",
      "metadata": {
        "id": "6vihK40-TgFP",
        "colab_type": "text"
      },
      "source": [
        "RNN with 3 hidden layers"
      ]
    },
    {
      "cell_type": "code",
      "metadata": {
        "id": "7IC2OH00Tc9e",
        "colab_type": "code",
        "outputId": "cdbe6ae3-47b6-4aa3-9dca-dae4beb86a7f",
        "colab": {
          "base_uri": "https://localhost:8080/",
          "height": 333
        }
      },
      "source": [
        "model = tf.keras.Sequential()\n",
        "model.add(tf.keras.layers.SimpleRNN(\n",
        "    step, activation='tanh',return_sequences=True))\n",
        "model.add(tf.keras.layers.SimpleRNN(\n",
        "    step, activation='tanh',return_sequences=True))\n",
        "model.add(tf.keras.layers.SimpleRNN(\n",
        "    step, activation='tanh',return_sequences=True))\n",
        "model.add(tf.keras.layers.Dense(1))\n",
        "\n",
        "model.compile(optimizer='adam',\n",
        "              loss='mse',\n",
        "              metrics=['mse','mae'])\n",
        "\n",
        "history_track = model.fit(trainX, trainY, epochs=20,batch_size=128, verbose=0)\n",
        "prediction= model.predict(testX)\n",
        "metrics = model.evaluate(testX, testY, verbose=2)\n",
        "print(\"R-sqaure : \" + str(r2_score(testY,prediction.flatten())))\n",
        "\n",
        "print(\"MSE : \" + str(metrics[1]))\n",
        "print(\"MAE : \" + str(metrics[2]))\n",
        "\n",
        "plt.plot(history_track.history['loss'])\n",
        "plt.show() "
      ],
      "execution_count": 20,
      "outputs": [
        {
          "output_type": "stream",
          "text": [
            "63/63 - 0s - loss: 2.2991 - mse: 2.2991 - mae: 1.3034\n",
            "R-sqaure : 0.0687717006581674\n",
            "MSE : 2.2991061210632324\n",
            "MAE : 1.3033721446990967\n"
          ],
          "name": "stdout"
        },
        {
          "output_type": "display_data",
          "data": {
            "image/png": "[encoded data removed]",
            "text/plain": [
              "<Figure size 432x288 with 1 Axes>"
            ]
          },
          "metadata": {
            "tags": [],
            "needs_background": "light"
          }
        }
      ]
    },
    {
      "cell_type": "markdown",
      "metadata": {
        "id": "fkZQX0pvcmdB",
        "colab_type": "text"
      },
      "source": [
        "# Detecting Temporal Order. \n",
        "\n",
        "Creating dataset and Custom Training Code"
      ]
    },
    {
      "cell_type": "code",
      "metadata": {
        "id": "-bKAN6P6Tlq_",
        "colab_type": "code",
        "colab": {}
      },
      "source": [
        "def create_dataset(size):\n",
        "  seq = []\n",
        "  labels = []\n",
        "  for i in range(size):\n",
        "    seq_len = random.randint(100, 110)\n",
        "    t1 = random.randint(10,20)\n",
        "    t2 = random.randint(33,43)\n",
        "    t3 = random.randint(66,76)\n",
        "    sequence = \"\"\n",
        "    order = \"\"\n",
        "    label = \"\"\n",
        "    for i in range(seq_len):\n",
        "      if i == 0:\n",
        "        sequence+=\"E\"\n",
        "      elif i == seq_len - 1:\n",
        "        sequence+=\"B\"\n",
        "      elif i == t1 or i == t2 or i == t3:\n",
        "        temp = random.choice(['X','Y'])\n",
        "        order+=temp\n",
        "        sequence+=temp\n",
        "      else:\n",
        "        sequence+=random.choice(['a','b','c','d'])\n",
        "    if order == \"XXX\":\n",
        "          label+=\"Q\"\n",
        "    if order == \"XXY\":\n",
        "        label+=\"R\"\n",
        "    if order == \"XYX\":\n",
        "        label+=\"S\"\n",
        "    if order == \"XYY\":\n",
        "        label+=\"U\"\n",
        "    if order == \"YXX\":\n",
        "        label+=\"V\"\n",
        "    if order == \"YXY\":\n",
        "        label+=\"A\"\n",
        "    if order == \"YYX\":\n",
        "        label+=\"B\"\n",
        "    if order == \"YYY\":\n",
        "        label+=\"C\"\n",
        "    seq.append(np.array(list(sequence)))\n",
        "    labels.append(list(label))\n",
        "  return np.array(seq), np.array(labels)\n",
        "#one hot encoding\n",
        "def encoding_sequence(seq):\n",
        "  sequence = []\n",
        "  for x in seq:\n",
        "    y = []\n",
        "    for i in range(len(x)):    \n",
        "      if x[i] == \"E\" or x[i] == \"B\":\n",
        "        y.append(int(8))\n",
        "      elif x[i] == 'X':\n",
        "        y.append(int(9))\n",
        "      elif x[i] == 'Y':\n",
        "        y.append(int(10))\n",
        "      else:\n",
        "        y.append(int(11))\n",
        "    sequence.append(y)\n",
        "  return sequence\n",
        "\n",
        "def pre_processed_data(size):\n",
        "  seq, labels = create_dataset(size)\n",
        "  seq = encoding_sequence(seq)\n",
        "  padded_inputs = tf.keras.preprocessing.sequence.pad_sequences(seq,padding='post')\n",
        "  #one-hot encoding\n",
        "  encoded_data = [to_categorical(i) for i in padded_inputs]\n",
        "  encoded_data = np.reshape(np.array(encoded_data),(size,110,12))\n",
        "  print(encoded_data.shape)\n",
        "  #label encoder\n",
        "  le = preprocessing.LabelEncoder()\n",
        "  le.fit(labels)\n",
        "  encoded_labels = le.transform(labels)\n",
        "  depth = 8\n",
        "  encoded_labels = tf.one_hot(encoded_labels, depth,\n",
        "            on_value=1.0, off_value=0.0,\n",
        "            axis=-1)\n",
        "  encoded_labels = np.reshape(encoded_labels, (size,8))\n",
        "  print(encoded_labels.shape)\n",
        "  return encoded_data, encoded_labels\n",
        "\n",
        "\n",
        "def create_batch(n,features,label):\n",
        "  trainX=[]\n",
        "  trainY=[]\n",
        "  randomlist = random.sample(range(0, 3999), n)\n",
        "  for i in range(len(randomlist)):\n",
        "    trainX.append(features[i])\n",
        "    trainY.append(label[i])\n",
        "  trainX = np.reshape(np.array(trainX),(len(randomlist),12,110))\n",
        "  trainY = np.reshape(np.array(trainY),(len(randomlist),8))\n",
        "  return trainX, trainY\n",
        "\n",
        "def loss(model, x, y, training):\n",
        "  y_ = model(x, training=training)\n",
        "  return loss_object(y_true=y, y_pred=y_)\n",
        "\n",
        "def grad(model, inputs, targets):\n",
        "  with tf.GradientTape() as tape:\n",
        "    loss_value = loss(model, inputs, targets, training=True)\n",
        "  return loss_value, tape.gradient(loss_value, model.trainable_variables)\n",
        "\n",
        "def train_model(model,encoded_data, encoded_labels):\n",
        "  loss_object = tf.keras.losses.CategoricalCrossentropy(from_logits=True)\n",
        "  optimizer = tf.keras.optimizers.SGD(learning_rate=0.1)\n",
        "  # Keep results for plotting\n",
        "  train_loss_results = []\n",
        "  av_training_error = 0\n",
        "  num_epochs = 0\n",
        "  while True:\n",
        "    num_epochs+=1\n",
        "    epoch_loss_avg = tf.keras.metrics.Mean()\n",
        "    x,y = create_batch(1,encoded_data,encoded_labels)\n",
        "    loss_value, grads = grad(model,x, y)\n",
        "    optimizer.apply_gradients(zip(grads, model.trainable_variables))\n",
        "    predictions = model(x)\n",
        "    training_error = LA.norm(predictions - y, 1)\n",
        "    av_training_error+= ( training_error - av_training_error)/num_epochs\n",
        "    # Track progress\n",
        "    epoch_loss_avg.update_state(loss_value)\n",
        "    # End epoch\n",
        "    train_loss_results.append(epoch_loss_avg.result())\n",
        "\n",
        "    if num_epochs % 50 == 0:\n",
        "      print(\"Epoch {:03d}: Loss: {:.3f}, Average Training Error: {:.3}, Training error: {:.3f} \".format(num_epochs,\n",
        "                                                                  epoch_loss_avg.result(),av_training_error,training_error),flush=\"True\")\n",
        "      sys.stdout.flush()\n",
        "    if av_training_error < 0.1:\n",
        "      print(\"Training Ends\")\n",
        "      print(\"Epoch {:03d}: Loss: {:.3f}, Average Training Error: {:.3}, Training error: {:.3f} \".format(num_epochs,\n",
        "                                                                  epoch_loss_avg.result(),av_training_error,training_error),flush=\"True\")\n",
        "      break\n",
        "\n",
        "  #plotting training error vs number of sequences passed \n",
        "  fig = plt.figure()\n",
        "  plt.plot(av_training_error)\n",
        "  fig.suptitle('Training Error vs Number of Sequences ', fontsize=20)\n",
        "  plt.xlabel('Number of Sequences', fontsize=18)\n",
        "  plt.ylabel('Training Error', fontsize=16)\n",
        "  plt.show()\n"
      ],
      "execution_count": 0,
      "outputs": []
    },
    {
      "cell_type": "markdown",
      "metadata": {
        "id": "mGEMl17ZVW3P",
        "colab_type": "text"
      },
      "source": [
        "Model and Training "
      ]
    },
    {
      "cell_type": "code",
      "metadata": {
        "id": "8DqJd3WKIu3i",
        "colab_type": "code",
        "colab": {
          "base_uri": "https://localhost:8080/",
          "height": 326
        },
        "outputId": "ab1d2900-1a86-4840-bee0-c437fab2481b"
      },
      "source": [
        "model = tf.keras.Sequential([\n",
        "    tf.keras.layers.LSTM(2,return_sequences=True,kernel_initializer=tf.keras.initializers.RandomNormal(mean=0.0, stddev=0.5, seed=None),unit_forget_bias=False,bias_initializer= 'ones'),\n",
        "    tf.keras.layers.LSTM(4,return_sequences=True,kernel_initializer=tf.keras.initializers.RandomNormal(mean=0.0, stddev=0.5, seed=None)),\n",
        "    tf.keras.layers.LSTM(8,return_sequences=False,kernel_initializer=tf.keras.initializers.RandomNormal(mean=0.0, stddev=0.5, seed=None)),\n",
        "    tf.keras.layers.Dense(8, activation='softmax')])\n",
        "trainx, trainy = pre_processed_data(2000)\n",
        "train_model(model,trainx,trainy)"
      ],
      "execution_count": 32,
      "outputs": [
        {
          "output_type": "stream",
          "text": [
            "(2000, 110, 12)\n",
            "(2000, 8)\n"
          ],
          "name": "stdout"
        },
        {
          "output_type": "stream",
          "text": [
            "/usr/local/lib/python3.6/dist-packages/sklearn/preprocessing/_label.py:235: DataConversionWarning: A column-vector y was passed when a 1d array was expected. Please change the shape of y to (n_samples, ), for example using ravel().\n",
            "  y = column_or_1d(y, warn=True)\n",
            "/usr/local/lib/python3.6/dist-packages/sklearn/preprocessing/_label.py:268: DataConversionWarning: A column-vector y was passed when a 1d array was expected. Please change the shape of y to (n_samples, ), for example using ravel().\n",
            "  y = column_or_1d(y, warn=True)\n"
          ],
          "name": "stderr"
        },
        {
          "output_type": "stream",
          "text": [
            "Epoch 050: Loss: 1.587, Average Training Error: 0.706, Training error: 0.342 \n",
            "Epoch 100: Loss: 1.318, Average Training Error: 0.418, Training error: 0.052 \n",
            "Epoch 150: Loss: 1.294, Average Training Error: 0.29, Training error: 0.024 \n",
            "Epoch 200: Loss: 1.286, Average Training Error: 0.222, Training error: 0.015 \n",
            "Epoch 250: Loss: 1.283, Average Training Error: 0.18, Training error: 0.011 \n",
            "Epoch 300: Loss: 1.281, Average Training Error: 0.152, Training error: 0.008 \n",
            "Epoch 350: Loss: 1.279, Average Training Error: 0.131, Training error: 0.007 \n",
            "Epoch 400: Loss: 1.279, Average Training Error: 0.115, Training error: 0.006 \n",
            "Epoch 450: Loss: 1.278, Average Training Error: 0.103, Training error: 0.005 \n",
            "Training Ends\n",
            "Epoch 466: Loss: 1.278, Average Training Error: 0.0998, Training error: 0.005 \n"
          ],
          "name": "stdout"
        }
      ]
    },
    {
      "cell_type": "code",
      "metadata": {
        "id": "AYlc3EoIcxWF",
        "colab_type": "code",
        "colab": {}
      },
      "source": [
        ""
      ],
      "execution_count": 0,
      "outputs": []
    }
  ]
}